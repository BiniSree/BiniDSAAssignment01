{
 "cells": [
  {
   "cell_type": "code",
   "execution_count": 67,
   "id": "20702ba3",
   "metadata": {},
   "outputs": [],
   "source": [
    "import numpy as np\n",
    "import pandas as pd\n",
    "import matplotlib.pyplot as plt\n",
    "import seaborn as sns"
   ]
  },
  {
   "cell_type": "markdown",
   "id": "b1717dcf",
   "metadata": {},
   "source": [
    "# Loading the dataset to python"
   ]
  },
  {
   "cell_type": "code",
   "execution_count": 143,
   "id": "4a36b2d9",
   "metadata": {},
   "outputs": [],
   "source": [
    "data= pd.read_csv(r'C:\\Users\\bini1\\Downloads\\Obesity.csv')"
   ]
  },
  {
   "cell_type": "code",
   "execution_count": 144,
   "id": "6c67e854",
   "metadata": {},
   "outputs": [
    {
     "data": {
      "text/html": [
       "<div>\n",
       "<style scoped>\n",
       "    .dataframe tbody tr th:only-of-type {\n",
       "        vertical-align: middle;\n",
       "    }\n",
       "\n",
       "    .dataframe tbody tr th {\n",
       "        vertical-align: top;\n",
       "    }\n",
       "\n",
       "    .dataframe thead th {\n",
       "        text-align: right;\n",
       "    }\n",
       "</style>\n",
       "<table border=\"1\" class=\"dataframe\">\n",
       "  <thead>\n",
       "    <tr style=\"text-align: right;\">\n",
       "      <th></th>\n",
       "      <th>Gender</th>\n",
       "      <th>Age</th>\n",
       "      <th>Height</th>\n",
       "      <th>Weight</th>\n",
       "      <th>family_history_with_overweight</th>\n",
       "      <th>FAVC</th>\n",
       "      <th>FCVC</th>\n",
       "      <th>NCP</th>\n",
       "      <th>CAEC</th>\n",
       "      <th>SMOKE</th>\n",
       "      <th>CH2O</th>\n",
       "      <th>SCC</th>\n",
       "      <th>FAF</th>\n",
       "      <th>TUE</th>\n",
       "      <th>CALC</th>\n",
       "      <th>MTRANS</th>\n",
       "      <th>NObeyesdad</th>\n",
       "    </tr>\n",
       "  </thead>\n",
       "  <tbody>\n",
       "    <tr>\n",
       "      <th>0</th>\n",
       "      <td>Female</td>\n",
       "      <td>21.0</td>\n",
       "      <td>1.62</td>\n",
       "      <td>64.0</td>\n",
       "      <td>yes</td>\n",
       "      <td>no</td>\n",
       "      <td>2.0</td>\n",
       "      <td>3.0</td>\n",
       "      <td>Sometimes</td>\n",
       "      <td>no</td>\n",
       "      <td>2.0</td>\n",
       "      <td>no</td>\n",
       "      <td>0.0</td>\n",
       "      <td>1.0</td>\n",
       "      <td>no</td>\n",
       "      <td>Public_Transportation</td>\n",
       "      <td>Normal_Weight</td>\n",
       "    </tr>\n",
       "    <tr>\n",
       "      <th>1</th>\n",
       "      <td>Female</td>\n",
       "      <td>21.0</td>\n",
       "      <td>1.52</td>\n",
       "      <td>56.0</td>\n",
       "      <td>yes</td>\n",
       "      <td>no</td>\n",
       "      <td>3.0</td>\n",
       "      <td>3.0</td>\n",
       "      <td>Sometimes</td>\n",
       "      <td>yes</td>\n",
       "      <td>3.0</td>\n",
       "      <td>yes</td>\n",
       "      <td>3.0</td>\n",
       "      <td>0.0</td>\n",
       "      <td>Sometimes</td>\n",
       "      <td>Public_Transportation</td>\n",
       "      <td>Normal_Weight</td>\n",
       "    </tr>\n",
       "    <tr>\n",
       "      <th>2</th>\n",
       "      <td>Male</td>\n",
       "      <td>23.0</td>\n",
       "      <td>1.80</td>\n",
       "      <td>77.0</td>\n",
       "      <td>yes</td>\n",
       "      <td>no</td>\n",
       "      <td>2.0</td>\n",
       "      <td>3.0</td>\n",
       "      <td>Sometimes</td>\n",
       "      <td>no</td>\n",
       "      <td>2.0</td>\n",
       "      <td>no</td>\n",
       "      <td>2.0</td>\n",
       "      <td>1.0</td>\n",
       "      <td>Frequently</td>\n",
       "      <td>Public_Transportation</td>\n",
       "      <td>Normal_Weight</td>\n",
       "    </tr>\n",
       "    <tr>\n",
       "      <th>3</th>\n",
       "      <td>Male</td>\n",
       "      <td>27.0</td>\n",
       "      <td>1.80</td>\n",
       "      <td>87.0</td>\n",
       "      <td>no</td>\n",
       "      <td>no</td>\n",
       "      <td>3.0</td>\n",
       "      <td>3.0</td>\n",
       "      <td>Sometimes</td>\n",
       "      <td>no</td>\n",
       "      <td>2.0</td>\n",
       "      <td>no</td>\n",
       "      <td>2.0</td>\n",
       "      <td>0.0</td>\n",
       "      <td>Frequently</td>\n",
       "      <td>Walking</td>\n",
       "      <td>Overweight_Level_I</td>\n",
       "    </tr>\n",
       "    <tr>\n",
       "      <th>4</th>\n",
       "      <td>Male</td>\n",
       "      <td>22.0</td>\n",
       "      <td>1.78</td>\n",
       "      <td>89.8</td>\n",
       "      <td>no</td>\n",
       "      <td>no</td>\n",
       "      <td>2.0</td>\n",
       "      <td>1.0</td>\n",
       "      <td>Sometimes</td>\n",
       "      <td>no</td>\n",
       "      <td>2.0</td>\n",
       "      <td>no</td>\n",
       "      <td>0.0</td>\n",
       "      <td>0.0</td>\n",
       "      <td>Sometimes</td>\n",
       "      <td>Public_Transportation</td>\n",
       "      <td>Overweight_Level_II</td>\n",
       "    </tr>\n",
       "  </tbody>\n",
       "</table>\n",
       "</div>"
      ],
      "text/plain": [
       "   Gender   Age  Height  Weight family_history_with_overweight FAVC  FCVC  \\\n",
       "0  Female  21.0    1.62    64.0                            yes   no   2.0   \n",
       "1  Female  21.0    1.52    56.0                            yes   no   3.0   \n",
       "2    Male  23.0    1.80    77.0                            yes   no   2.0   \n",
       "3    Male  27.0    1.80    87.0                             no   no   3.0   \n",
       "4    Male  22.0    1.78    89.8                             no   no   2.0   \n",
       "\n",
       "   NCP       CAEC SMOKE  CH2O  SCC  FAF  TUE        CALC  \\\n",
       "0  3.0  Sometimes    no   2.0   no  0.0  1.0          no   \n",
       "1  3.0  Sometimes   yes   3.0  yes  3.0  0.0   Sometimes   \n",
       "2  3.0  Sometimes    no   2.0   no  2.0  1.0  Frequently   \n",
       "3  3.0  Sometimes    no   2.0   no  2.0  0.0  Frequently   \n",
       "4  1.0  Sometimes    no   2.0   no  0.0  0.0   Sometimes   \n",
       "\n",
       "                  MTRANS           NObeyesdad  \n",
       "0  Public_Transportation        Normal_Weight  \n",
       "1  Public_Transportation        Normal_Weight  \n",
       "2  Public_Transportation        Normal_Weight  \n",
       "3                Walking   Overweight_Level_I  \n",
       "4  Public_Transportation  Overweight_Level_II  "
      ]
     },
     "execution_count": 144,
     "metadata": {},
     "output_type": "execute_result"
    }
   ],
   "source": [
    "data.head()"
   ]
  },
  {
   "cell_type": "code",
   "execution_count": null,
   "id": "4ba2c607",
   "metadata": {},
   "outputs": [],
   "source": []
  },
  {
   "cell_type": "code",
   "execution_count": 70,
   "id": "a120cee6",
   "metadata": {},
   "outputs": [],
   "source": [
    "#FAVC: Frequent consumption of high caloric food\n",
    "#o FCVC- Frequency of consumption of vegetables\n",
    "#o NCP: Number of main meals per day\n",
    "#o CAEC: Consumption of food between meals\n",
    "#o CH2O: Consumption of water daily\n",
    "#o CALC: Consumption of alcohol\n",
    "#SCC: Calories consumption monitoring\n",
    "#o FAF: Physical activity frequency\n",
    "#o TUE: Time using technology devices\n",
    "#o MTRANS: Transportation used"
   ]
  },
  {
   "cell_type": "code",
   "execution_count": null,
   "id": "de18c070",
   "metadata": {},
   "outputs": [],
   "source": []
  },
  {
   "cell_type": "markdown",
   "id": "2705e715",
   "metadata": {},
   "source": [
    "# Finding the information on dataset"
   ]
  },
  {
   "cell_type": "code",
   "execution_count": 100,
   "id": "bdd83476",
   "metadata": {},
   "outputs": [
    {
     "name": "stdout",
     "output_type": "stream",
     "text": [
      "<class 'pandas.core.frame.DataFrame'>\n",
      "RangeIndex: 2111 entries, 0 to 2110\n",
      "Data columns (total 17 columns):\n",
      " #   Column                          Non-Null Count  Dtype  \n",
      "---  ------                          --------------  -----  \n",
      " 0   Gender                          2102 non-null   object \n",
      " 1   Age                             2111 non-null   float64\n",
      " 2   Height                          2101 non-null   float64\n",
      " 3   Weight                          2111 non-null   float64\n",
      " 4   family_history_with_overweight  2105 non-null   object \n",
      " 5   FAVC                            2111 non-null   object \n",
      " 6   FCVC                            2111 non-null   float64\n",
      " 7   NCP                             2111 non-null   float64\n",
      " 8   CAEC                            2102 non-null   object \n",
      " 9   SMOKE                           2111 non-null   object \n",
      " 10  CH2O                            2111 non-null   float64\n",
      " 11  SCC                             2104 non-null   object \n",
      " 12  FAF                             2111 non-null   float64\n",
      " 13  TUE                             2111 non-null   float64\n",
      " 14  CALC                            2111 non-null   object \n",
      " 15  MTRANS                          2104 non-null   object \n",
      " 16  NObeyesdad                      2111 non-null   object \n",
      "dtypes: float64(8), object(9)\n",
      "memory usage: 280.5+ KB\n"
     ]
    }
   ],
   "source": [
    "data.info()"
   ]
  },
  {
   "cell_type": "code",
   "execution_count": 101,
   "id": "8d75adc6",
   "metadata": {},
   "outputs": [
    {
     "data": {
      "text/html": [
       "<div>\n",
       "<style scoped>\n",
       "    .dataframe tbody tr th:only-of-type {\n",
       "        vertical-align: middle;\n",
       "    }\n",
       "\n",
       "    .dataframe tbody tr th {\n",
       "        vertical-align: top;\n",
       "    }\n",
       "\n",
       "    .dataframe thead th {\n",
       "        text-align: right;\n",
       "    }\n",
       "</style>\n",
       "<table border=\"1\" class=\"dataframe\">\n",
       "  <thead>\n",
       "    <tr style=\"text-align: right;\">\n",
       "      <th></th>\n",
       "      <th>Age</th>\n",
       "      <th>Height</th>\n",
       "      <th>Weight</th>\n",
       "      <th>FCVC</th>\n",
       "      <th>NCP</th>\n",
       "      <th>CH2O</th>\n",
       "      <th>FAF</th>\n",
       "      <th>TUE</th>\n",
       "    </tr>\n",
       "  </thead>\n",
       "  <tbody>\n",
       "    <tr>\n",
       "      <th>count</th>\n",
       "      <td>2111.000000</td>\n",
       "      <td>2101.000000</td>\n",
       "      <td>2111.000000</td>\n",
       "      <td>2111.000000</td>\n",
       "      <td>2111.000000</td>\n",
       "      <td>2111.000000</td>\n",
       "      <td>2111.000000</td>\n",
       "      <td>2111.000000</td>\n",
       "    </tr>\n",
       "    <tr>\n",
       "      <th>mean</th>\n",
       "      <td>24.488346</td>\n",
       "      <td>1.701995</td>\n",
       "      <td>86.586058</td>\n",
       "      <td>2.419043</td>\n",
       "      <td>2.685628</td>\n",
       "      <td>2.008011</td>\n",
       "      <td>1.010298</td>\n",
       "      <td>0.657866</td>\n",
       "    </tr>\n",
       "    <tr>\n",
       "      <th>std</th>\n",
       "      <td>7.365358</td>\n",
       "      <td>0.093288</td>\n",
       "      <td>26.191172</td>\n",
       "      <td>0.533927</td>\n",
       "      <td>0.778039</td>\n",
       "      <td>0.612953</td>\n",
       "      <td>0.850592</td>\n",
       "      <td>0.608927</td>\n",
       "    </tr>\n",
       "    <tr>\n",
       "      <th>min</th>\n",
       "      <td>2.000000</td>\n",
       "      <td>1.450000</td>\n",
       "      <td>39.000000</td>\n",
       "      <td>1.000000</td>\n",
       "      <td>1.000000</td>\n",
       "      <td>1.000000</td>\n",
       "      <td>0.000000</td>\n",
       "      <td>0.000000</td>\n",
       "    </tr>\n",
       "    <tr>\n",
       "      <th>25%</th>\n",
       "      <td>19.947192</td>\n",
       "      <td>1.630000</td>\n",
       "      <td>65.473343</td>\n",
       "      <td>2.000000</td>\n",
       "      <td>2.658738</td>\n",
       "      <td>1.584812</td>\n",
       "      <td>0.124505</td>\n",
       "      <td>0.000000</td>\n",
       "    </tr>\n",
       "    <tr>\n",
       "      <th>50%</th>\n",
       "      <td>22.804818</td>\n",
       "      <td>1.701284</td>\n",
       "      <td>83.000000</td>\n",
       "      <td>2.385502</td>\n",
       "      <td>3.000000</td>\n",
       "      <td>2.000000</td>\n",
       "      <td>1.000000</td>\n",
       "      <td>0.625350</td>\n",
       "    </tr>\n",
       "    <tr>\n",
       "      <th>75%</th>\n",
       "      <td>26.000000</td>\n",
       "      <td>1.768834</td>\n",
       "      <td>107.430682</td>\n",
       "      <td>3.000000</td>\n",
       "      <td>3.000000</td>\n",
       "      <td>2.477420</td>\n",
       "      <td>1.666678</td>\n",
       "      <td>1.000000</td>\n",
       "    </tr>\n",
       "    <tr>\n",
       "      <th>max</th>\n",
       "      <td>99.000000</td>\n",
       "      <td>1.980000</td>\n",
       "      <td>173.000000</td>\n",
       "      <td>3.000000</td>\n",
       "      <td>4.000000</td>\n",
       "      <td>3.000000</td>\n",
       "      <td>3.000000</td>\n",
       "      <td>2.000000</td>\n",
       "    </tr>\n",
       "  </tbody>\n",
       "</table>\n",
       "</div>"
      ],
      "text/plain": [
       "               Age       Height       Weight         FCVC          NCP  \\\n",
       "count  2111.000000  2101.000000  2111.000000  2111.000000  2111.000000   \n",
       "mean     24.488346     1.701995    86.586058     2.419043     2.685628   \n",
       "std       7.365358     0.093288    26.191172     0.533927     0.778039   \n",
       "min       2.000000     1.450000    39.000000     1.000000     1.000000   \n",
       "25%      19.947192     1.630000    65.473343     2.000000     2.658738   \n",
       "50%      22.804818     1.701284    83.000000     2.385502     3.000000   \n",
       "75%      26.000000     1.768834   107.430682     3.000000     3.000000   \n",
       "max      99.000000     1.980000   173.000000     3.000000     4.000000   \n",
       "\n",
       "              CH2O          FAF          TUE  \n",
       "count  2111.000000  2111.000000  2111.000000  \n",
       "mean      2.008011     1.010298     0.657866  \n",
       "std       0.612953     0.850592     0.608927  \n",
       "min       1.000000     0.000000     0.000000  \n",
       "25%       1.584812     0.124505     0.000000  \n",
       "50%       2.000000     1.000000     0.625350  \n",
       "75%       2.477420     1.666678     1.000000  \n",
       "max       3.000000     3.000000     2.000000  "
      ]
     },
     "execution_count": 101,
     "metadata": {},
     "output_type": "execute_result"
    }
   ],
   "source": [
    "data.describe()"
   ]
  },
  {
   "cell_type": "code",
   "execution_count": null,
   "id": "91fdb060",
   "metadata": {},
   "outputs": [],
   "source": []
  },
  {
   "cell_type": "markdown",
   "id": "4acef4be",
   "metadata": {},
   "source": [
    "# Performing Exploratory Data Analysis"
   ]
  },
  {
   "cell_type": "code",
   "execution_count": null,
   "id": "4249dbab",
   "metadata": {},
   "outputs": [],
   "source": []
  },
  {
   "cell_type": "code",
   "execution_count": 73,
   "id": "5b45bc98",
   "metadata": {},
   "outputs": [
    {
     "data": {
      "image/png": "[encoded data removed]",
      "text/plain": [
       "<Figure size 640x480 with 1 Axes>"
      ]
     },
     "metadata": {},
     "output_type": "display_data"
    }
   ],
   "source": [
    "sns.barplot(y='Weight', x='FAVC', data=data)\n",
    "plt.title('Barplot of Weight and High Calorie Food Consumption')\n",
    "plt.show()"
   ]
  },
  {
   "cell_type": "markdown",
   "id": "6d8bdf7e",
   "metadata": {},
   "source": [
    "### Above plot indicates that people with hign calorie food consumption will have more weight or there are more chances of having obesity."
   ]
  },
  {
   "cell_type": "code",
   "execution_count": null,
   "id": "85932b6a",
   "metadata": {},
   "outputs": [],
   "source": []
  },
  {
   "cell_type": "code",
   "execution_count": 74,
   "id": "8ad3f6a1",
   "metadata": {},
   "outputs": [
    {
     "data": {
      "image/png": "[encoded data removed]",
      "text/plain": [
       "<Figure size 640x480 with 1 Axes>"
      ]
     },
     "metadata": {},
     "output_type": "display_data"
    }
   ],
   "source": [
    "sns.barplot(y='NObeyesdad', x='Age', data=data)\n",
    "plt.title('Barplot of Obesity Category and Age')\n",
    "plt.show()"
   ]
  },
  {
   "cell_type": "markdown",
   "id": "0ef1834b",
   "metadata": {},
   "source": [
    "### Above plot indicates that the age category of 25-30 have more of Obesity_typeII and Overweight level II"
   ]
  },
  {
   "cell_type": "code",
   "execution_count": null,
   "id": "3c80201c",
   "metadata": {},
   "outputs": [],
   "source": []
  },
  {
   "cell_type": "code",
   "execution_count": 75,
   "id": "a5727a15",
   "metadata": {},
   "outputs": [
    {
     "data": {
      "image/png": "[encoded data removed]",
      "text/plain": [
       "<Figure size 640x480 with 1 Axes>"
      ]
     },
     "metadata": {},
     "output_type": "display_data"
    }
   ],
   "source": [
    "sns.countplot(y='NObeyesdad', data=data, color='orange')\n",
    "plt.title('Frequency of Obesity types')\n",
    "plt.show()"
   ]
  },
  {
   "cell_type": "markdown",
   "id": "68275b2a",
   "metadata": {},
   "source": [
    "### Above plot shows that the most occuring Obesity types are Obesity TypeIS followed by Obesity Type III"
   ]
  },
  {
   "cell_type": "code",
   "execution_count": null,
   "id": "dfad2cdc",
   "metadata": {},
   "outputs": [],
   "source": []
  },
  {
   "cell_type": "code",
   "execution_count": 76,
   "id": "c083a5d9",
   "metadata": {},
   "outputs": [
    {
     "data": {
      "image/png": "[encoded data removed]",
      "text/plain": [
       "<Figure size 640x480 with 1 Axes>"
      ]
     },
     "metadata": {},
     "output_type": "display_data"
    }
   ],
   "source": [
    "sns.barplot(y='Weight', x='family_history_with_overweight', data=data)\n",
    "plt.title('Barplot of Weight and Family Background')\n",
    "plt.xlabel('Family History of Obesity')\n",
    "plt.ylabel('Weight')\n",
    "plt.show()"
   ]
  },
  {
   "cell_type": "markdown",
   "id": "537fd616",
   "metadata": {},
   "source": [
    "### Above plot shows close relation of weight and family background"
   ]
  },
  {
   "cell_type": "code",
   "execution_count": null,
   "id": "8d63b5eb",
   "metadata": {},
   "outputs": [],
   "source": []
  },
  {
   "cell_type": "code",
   "execution_count": 77,
   "id": "9cdc9297",
   "metadata": {},
   "outputs": [
    {
     "data": {
      "image/png": "[encoded data removed]",
      "text/plain": [
       "<Figure size 640x480 with 1 Axes>"
      ]
     },
     "metadata": {},
     "output_type": "display_data"
    }
   ],
   "source": [
    "sns.scatterplot(x='Weight', y='FAF', hue='NObeyesdad', data=data, palette='Set1', s=70)\n",
    "plt.title('Scatter Plot of Weight and Physical Activity categorised on Obesity Type basis')\n",
    "plt.xlabel('Weight')\n",
    "plt.ylabel('Physical Activity Level')\n",
    "plt.show()"
   ]
  },
  {
   "cell_type": "markdown",
   "id": "44b50f14",
   "metadata": {},
   "source": [
    "### Above plot shows that people with high weight and lower physical activity have Type III Obesity"
   ]
  },
  {
   "cell_type": "code",
   "execution_count": null,
   "id": "db9636da",
   "metadata": {},
   "outputs": [],
   "source": []
  },
  {
   "cell_type": "code",
   "execution_count": 78,
   "id": "f89f9548",
   "metadata": {},
   "outputs": [
    {
     "data": {
      "image/png": "[encoded data removed]",
      "text/plain": [
       "<Figure size 640x480 with 1 Axes>"
      ]
     },
     "metadata": {},
     "output_type": "display_data"
    }
   ],
   "source": [
    "sns.boxplot(y='FAF', x='Gender', data=data)\n",
    "plt.title('Physical Activity Gender wise')\n",
    "plt.xlabel('Gender')\n",
    "plt.ylabel('Physical Activity Level')\n",
    "plt.show()"
   ]
  },
  {
   "cell_type": "markdown",
   "id": "e56394e5",
   "metadata": {},
   "source": [
    "### Above barplot indicates that on average males have more physical activity than females"
   ]
  },
  {
   "cell_type": "code",
   "execution_count": null,
   "id": "8b0dfda5",
   "metadata": {},
   "outputs": [],
   "source": []
  },
  {
   "cell_type": "code",
   "execution_count": 91,
   "id": "3771a135",
   "metadata": {},
   "outputs": [
    {
     "data": {
      "image/png": "[encoded data removed]",
      "text/plain": [
       "<Figure size 640x480 with 1 Axes>"
      ]
     },
     "metadata": {},
     "output_type": "display_data"
    }
   ],
   "source": [
    "sns.barplot(y='Weight', x='CAEC', data=data)\n",
    "plt.title('Barplot of Weight and Eating Habit between Meals')\n",
    "plt.xlabel('Eating habit between Meals')\n",
    "plt.ylabel('Weight')\n",
    "plt.show()"
   ]
  },
  {
   "cell_type": "markdown",
   "id": "591ce46a",
   "metadata": {},
   "source": [
    "### Above indicates that there is no big difference in weight based on the habit of eating between main meals."
   ]
  },
  {
   "cell_type": "code",
   "execution_count": null,
   "id": "2f131af7",
   "metadata": {},
   "outputs": [],
   "source": []
  },
  {
   "cell_type": "markdown",
   "id": "7aead3da",
   "metadata": {},
   "source": [
    "# Data cleaning- Removing null values"
   ]
  },
  {
   "cell_type": "code",
   "execution_count": 145,
   "id": "849db977",
   "metadata": {},
   "outputs": [
    {
     "data": {
      "text/plain": [
       "Index(['Gender', 'Age', 'Height', 'Weight', 'family_history_with_overweight',\n",
       "       'FAVC', 'FCVC', 'NCP', 'CAEC', 'SMOKE', 'CH2O', 'SCC', 'FAF', 'TUE',\n",
       "       'CALC', 'MTRANS', 'NObeyesdad'],\n",
       "      dtype='object')"
      ]
     },
     "execution_count": 145,
     "metadata": {},
     "output_type": "execute_result"
    }
   ],
   "source": [
    "data.columns"
   ]
  },
  {
   "cell_type": "code",
   "execution_count": null,
   "id": "fc9f0fcc",
   "metadata": {},
   "outputs": [],
   "source": []
  },
  {
   "cell_type": "code",
   "execution_count": 146,
   "id": "552269cc",
   "metadata": {},
   "outputs": [
    {
     "data": {
      "text/plain": [
       "Gender                             9\n",
       "Age                                0\n",
       "Height                            10\n",
       "Weight                             0\n",
       "family_history_with_overweight     6\n",
       "FAVC                               0\n",
       "FCVC                               0\n",
       "NCP                                0\n",
       "CAEC                               9\n",
       "SMOKE                              0\n",
       "CH2O                               0\n",
       "SCC                                7\n",
       "FAF                                0\n",
       "TUE                                0\n",
       "CALC                               0\n",
       "MTRANS                             7\n",
       "NObeyesdad                         0\n",
       "dtype: int64"
      ]
     },
     "execution_count": 146,
     "metadata": {},
     "output_type": "execute_result"
    }
   ],
   "source": [
    "data.isna().sum()"
   ]
  },
  {
   "cell_type": "code",
   "execution_count": null,
   "id": "b77816b4",
   "metadata": {},
   "outputs": [],
   "source": []
  },
  {
   "cell_type": "code",
   "execution_count": 147,
   "id": "325f7ed6",
   "metadata": {},
   "outputs": [],
   "source": [
    "data= data.dropna(subset=['Height'])"
   ]
  },
  {
   "cell_type": "code",
   "execution_count": 148,
   "id": "22efd7f1",
   "metadata": {},
   "outputs": [
    {
     "data": {
      "text/plain": [
       "0"
      ]
     },
     "execution_count": 148,
     "metadata": {},
     "output_type": "execute_result"
    }
   ],
   "source": [
    "data['Height'].isna().sum()"
   ]
  },
  {
   "cell_type": "code",
   "execution_count": 149,
   "id": "9ff7ca0c",
   "metadata": {},
   "outputs": [],
   "source": [
    "data= data.dropna(subset=['Gender'])"
   ]
  },
  {
   "cell_type": "code",
   "execution_count": 150,
   "id": "85544969",
   "metadata": {},
   "outputs": [
    {
     "data": {
      "text/plain": [
       "0"
      ]
     },
     "execution_count": 150,
     "metadata": {},
     "output_type": "execute_result"
    }
   ],
   "source": [
    "data['Gender'].isna().sum()"
   ]
  },
  {
   "cell_type": "code",
   "execution_count": 151,
   "id": "dea0a3f7",
   "metadata": {},
   "outputs": [],
   "source": [
    "data['family_history_with_overweight']= data['family_history_with_overweight'].fillna(data['family_history_with_overweight'].mode()[0])"
   ]
  },
  {
   "cell_type": "code",
   "execution_count": 152,
   "id": "e11aa6ed",
   "metadata": {},
   "outputs": [
    {
     "data": {
      "text/plain": [
       "0"
      ]
     },
     "execution_count": 152,
     "metadata": {},
     "output_type": "execute_result"
    }
   ],
   "source": [
    "data['family_history_with_overweight'].isna().sum()"
   ]
  },
  {
   "cell_type": "code",
   "execution_count": 153,
   "id": "fec01f7f",
   "metadata": {},
   "outputs": [],
   "source": [
    "data['CAEC']= data['CAEC'].fillna(data['CAEC'].mode()[0])"
   ]
  },
  {
   "cell_type": "code",
   "execution_count": 154,
   "id": "1d4e5147",
   "metadata": {},
   "outputs": [],
   "source": [
    "data['SCC']= data['SCC'].fillna(data['SCC'].mode()[0])"
   ]
  },
  {
   "cell_type": "code",
   "execution_count": 155,
   "id": "2c28290b",
   "metadata": {},
   "outputs": [],
   "source": [
    "data['MTRANS']= data['MTRANS'].fillna(data['MTRANS'].mode()[0])"
   ]
  },
  {
   "cell_type": "code",
   "execution_count": 156,
   "id": "6f1629f9",
   "metadata": {},
   "outputs": [
    {
     "data": {
      "text/plain": [
       "Gender                            0\n",
       "Age                               0\n",
       "Height                            0\n",
       "Weight                            0\n",
       "family_history_with_overweight    0\n",
       "FAVC                              0\n",
       "FCVC                              0\n",
       "NCP                               0\n",
       "CAEC                              0\n",
       "SMOKE                             0\n",
       "CH2O                              0\n",
       "SCC                               0\n",
       "FAF                               0\n",
       "TUE                               0\n",
       "CALC                              0\n",
       "MTRANS                            0\n",
       "NObeyesdad                        0\n",
       "dtype: int64"
      ]
     },
     "execution_count": 156,
     "metadata": {},
     "output_type": "execute_result"
    }
   ],
   "source": [
    "data.isna().sum()"
   ]
  },
  {
   "cell_type": "code",
   "execution_count": null,
   "id": "8917b8b8",
   "metadata": {},
   "outputs": [],
   "source": []
  },
  {
   "cell_type": "markdown",
   "id": "2664e904",
   "metadata": {},
   "source": [
    "# Defining dependent and independent variables"
   ]
  },
  {
   "cell_type": "code",
   "execution_count": 173,
   "id": "cccb2a49",
   "metadata": {},
   "outputs": [],
   "source": [
    "x= data[['Gender', 'Age', 'Height', 'FAVC', 'NCP', 'CALC', 'FAF', 'TUE']]\n",
    "y= data[['Weight']]"
   ]
  },
  {
   "cell_type": "code",
   "execution_count": null,
   "id": "de9d6891",
   "metadata": {},
   "outputs": [],
   "source": []
  },
  {
   "cell_type": "markdown",
   "id": "581b52e7",
   "metadata": {},
   "source": [
    "# Encoding and Scaling"
   ]
  },
  {
   "cell_type": "markdown",
   "id": "476e1563",
   "metadata": {},
   "source": [
    "### Since there are categorical variables, they need to be made numerical for analysis and so encoding done."
   ]
  },
  {
   "cell_type": "code",
   "execution_count": 174,
   "id": "5329dd19",
   "metadata": {},
   "outputs": [],
   "source": [
    "from sklearn.preprocessing import LabelEncoder\n",
    "encoder= LabelEncoder()"
   ]
  },
  {
   "cell_type": "code",
   "execution_count": 163,
   "id": "a65c53db",
   "metadata": {},
   "outputs": [
    {
     "name": "stderr",
     "output_type": "stream",
     "text": [
      "C:\\ProgramData\\anaconda3\\Lib\\site-packages\\sklearn\\preprocessing\\_label.py:114: DataConversionWarning: A column-vector y was passed when a 1d array was expected. Please change the shape of y to (n_samples, ), for example using ravel().\n",
      "  y = column_or_1d(y, warn=True)\n"
     ]
    }
   ],
   "source": [
    "column_to_encode= ['Gender']\n",
    "column_to_encode_values= data[column_to_encode]\n",
    "encoded_Gender= encoder.fit_transform(column_to_encode_values)\n",
    "data['Gender']= encoded_Gender"
   ]
  },
  {
   "cell_type": "code",
   "execution_count": 175,
   "id": "00a806b5",
   "metadata": {},
   "outputs": [
    {
     "data": {
      "text/html": [
       "<div>\n",
       "<style scoped>\n",
       "    .dataframe tbody tr th:only-of-type {\n",
       "        vertical-align: middle;\n",
       "    }\n",
       "\n",
       "    .dataframe tbody tr th {\n",
       "        vertical-align: top;\n",
       "    }\n",
       "\n",
       "    .dataframe thead th {\n",
       "        text-align: right;\n",
       "    }\n",
       "</style>\n",
       "<table border=\"1\" class=\"dataframe\">\n",
       "  <thead>\n",
       "    <tr style=\"text-align: right;\">\n",
       "      <th></th>\n",
       "      <th>Gender</th>\n",
       "      <th>Age</th>\n",
       "      <th>Height</th>\n",
       "      <th>Weight</th>\n",
       "      <th>family_history_with_overweight</th>\n",
       "      <th>FAVC</th>\n",
       "      <th>FCVC</th>\n",
       "      <th>NCP</th>\n",
       "      <th>CAEC</th>\n",
       "      <th>SMOKE</th>\n",
       "      <th>CH2O</th>\n",
       "      <th>SCC</th>\n",
       "      <th>FAF</th>\n",
       "      <th>TUE</th>\n",
       "      <th>CALC</th>\n",
       "      <th>MTRANS</th>\n",
       "      <th>NObeyesdad</th>\n",
       "    </tr>\n",
       "  </thead>\n",
       "  <tbody>\n",
       "    <tr>\n",
       "      <th>0</th>\n",
       "      <td>0</td>\n",
       "      <td>21.0</td>\n",
       "      <td>1.62</td>\n",
       "      <td>64.0</td>\n",
       "      <td>yes</td>\n",
       "      <td>0</td>\n",
       "      <td>2.0</td>\n",
       "      <td>3.0</td>\n",
       "      <td>Sometimes</td>\n",
       "      <td>no</td>\n",
       "      <td>2.0</td>\n",
       "      <td>no</td>\n",
       "      <td>0.0</td>\n",
       "      <td>1.0</td>\n",
       "      <td>no</td>\n",
       "      <td>Public_Transportation</td>\n",
       "      <td>Normal_Weight</td>\n",
       "    </tr>\n",
       "    <tr>\n",
       "      <th>1</th>\n",
       "      <td>0</td>\n",
       "      <td>21.0</td>\n",
       "      <td>1.52</td>\n",
       "      <td>56.0</td>\n",
       "      <td>yes</td>\n",
       "      <td>0</td>\n",
       "      <td>3.0</td>\n",
       "      <td>3.0</td>\n",
       "      <td>Sometimes</td>\n",
       "      <td>yes</td>\n",
       "      <td>3.0</td>\n",
       "      <td>yes</td>\n",
       "      <td>3.0</td>\n",
       "      <td>0.0</td>\n",
       "      <td>Sometimes</td>\n",
       "      <td>Public_Transportation</td>\n",
       "      <td>Normal_Weight</td>\n",
       "    </tr>\n",
       "    <tr>\n",
       "      <th>2</th>\n",
       "      <td>1</td>\n",
       "      <td>23.0</td>\n",
       "      <td>1.80</td>\n",
       "      <td>77.0</td>\n",
       "      <td>yes</td>\n",
       "      <td>0</td>\n",
       "      <td>2.0</td>\n",
       "      <td>3.0</td>\n",
       "      <td>Sometimes</td>\n",
       "      <td>no</td>\n",
       "      <td>2.0</td>\n",
       "      <td>no</td>\n",
       "      <td>2.0</td>\n",
       "      <td>1.0</td>\n",
       "      <td>Frequently</td>\n",
       "      <td>Public_Transportation</td>\n",
       "      <td>Normal_Weight</td>\n",
       "    </tr>\n",
       "    <tr>\n",
       "      <th>3</th>\n",
       "      <td>1</td>\n",
       "      <td>27.0</td>\n",
       "      <td>1.80</td>\n",
       "      <td>87.0</td>\n",
       "      <td>no</td>\n",
       "      <td>0</td>\n",
       "      <td>3.0</td>\n",
       "      <td>3.0</td>\n",
       "      <td>Sometimes</td>\n",
       "      <td>no</td>\n",
       "      <td>2.0</td>\n",
       "      <td>no</td>\n",
       "      <td>2.0</td>\n",
       "      <td>0.0</td>\n",
       "      <td>Frequently</td>\n",
       "      <td>Walking</td>\n",
       "      <td>Overweight_Level_I</td>\n",
       "    </tr>\n",
       "    <tr>\n",
       "      <th>4</th>\n",
       "      <td>1</td>\n",
       "      <td>22.0</td>\n",
       "      <td>1.78</td>\n",
       "      <td>89.8</td>\n",
       "      <td>no</td>\n",
       "      <td>0</td>\n",
       "      <td>2.0</td>\n",
       "      <td>1.0</td>\n",
       "      <td>Sometimes</td>\n",
       "      <td>no</td>\n",
       "      <td>2.0</td>\n",
       "      <td>no</td>\n",
       "      <td>0.0</td>\n",
       "      <td>0.0</td>\n",
       "      <td>Sometimes</td>\n",
       "      <td>Public_Transportation</td>\n",
       "      <td>Overweight_Level_II</td>\n",
       "    </tr>\n",
       "  </tbody>\n",
       "</table>\n",
       "</div>"
      ],
      "text/plain": [
       "   Gender   Age  Height  Weight family_history_with_overweight  FAVC  FCVC  \\\n",
       "0       0  21.0    1.62    64.0                            yes     0   2.0   \n",
       "1       0  21.0    1.52    56.0                            yes     0   3.0   \n",
       "2       1  23.0    1.80    77.0                            yes     0   2.0   \n",
       "3       1  27.0    1.80    87.0                             no     0   3.0   \n",
       "4       1  22.0    1.78    89.8                             no     0   2.0   \n",
       "\n",
       "   NCP       CAEC SMOKE  CH2O  SCC  FAF  TUE        CALC  \\\n",
       "0  3.0  Sometimes    no   2.0   no  0.0  1.0          no   \n",
       "1  3.0  Sometimes   yes   3.0  yes  3.0  0.0   Sometimes   \n",
       "2  3.0  Sometimes    no   2.0   no  2.0  1.0  Frequently   \n",
       "3  3.0  Sometimes    no   2.0   no  2.0  0.0  Frequently   \n",
       "4  1.0  Sometimes    no   2.0   no  0.0  0.0   Sometimes   \n",
       "\n",
       "                  MTRANS           NObeyesdad  \n",
       "0  Public_Transportation        Normal_Weight  \n",
       "1  Public_Transportation        Normal_Weight  \n",
       "2  Public_Transportation        Normal_Weight  \n",
       "3                Walking   Overweight_Level_I  \n",
       "4  Public_Transportation  Overweight_Level_II  "
      ]
     },
     "execution_count": 175,
     "metadata": {},
     "output_type": "execute_result"
    }
   ],
   "source": [
    "data.head()"
   ]
  },
  {
   "cell_type": "code",
   "execution_count": null,
   "id": "dc02fb2d",
   "metadata": {},
   "outputs": [],
   "source": []
  },
  {
   "cell_type": "code",
   "execution_count": 176,
   "id": "580fb15a",
   "metadata": {},
   "outputs": [],
   "source": [
    "from sklearn.preprocessing import LabelEncoder\n",
    "encoder1= LabelEncoder()"
   ]
  },
  {
   "cell_type": "code",
   "execution_count": 177,
   "id": "8609a5b0",
   "metadata": {},
   "outputs": [
    {
     "name": "stderr",
     "output_type": "stream",
     "text": [
      "C:\\ProgramData\\anaconda3\\Lib\\site-packages\\sklearn\\preprocessing\\_label.py:114: DataConversionWarning: A column-vector y was passed when a 1d array was expected. Please change the shape of y to (n_samples, ), for example using ravel().\n",
      "  y = column_or_1d(y, warn=True)\n"
     ]
    }
   ],
   "source": [
    "column_to_encode= ['FAVC']\n",
    "column_to_encode_values= data[column_to_encode]\n",
    "encoded_FAVC= encoder1.fit_transform(column_to_encode_values)\n",
    "data['FAVC']= encoded_FAVC"
   ]
  },
  {
   "cell_type": "code",
   "execution_count": 178,
   "id": "22b8db65",
   "metadata": {},
   "outputs": [
    {
     "data": {
      "text/html": [
       "<div>\n",
       "<style scoped>\n",
       "    .dataframe tbody tr th:only-of-type {\n",
       "        vertical-align: middle;\n",
       "    }\n",
       "\n",
       "    .dataframe tbody tr th {\n",
       "        vertical-align: top;\n",
       "    }\n",
       "\n",
       "    .dataframe thead th {\n",
       "        text-align: right;\n",
       "    }\n",
       "</style>\n",
       "<table border=\"1\" class=\"dataframe\">\n",
       "  <thead>\n",
       "    <tr style=\"text-align: right;\">\n",
       "      <th></th>\n",
       "      <th>Gender</th>\n",
       "      <th>Age</th>\n",
       "      <th>Height</th>\n",
       "      <th>Weight</th>\n",
       "      <th>family_history_with_overweight</th>\n",
       "      <th>FAVC</th>\n",
       "      <th>FCVC</th>\n",
       "      <th>NCP</th>\n",
       "      <th>CAEC</th>\n",
       "      <th>SMOKE</th>\n",
       "      <th>CH2O</th>\n",
       "      <th>SCC</th>\n",
       "      <th>FAF</th>\n",
       "      <th>TUE</th>\n",
       "      <th>CALC</th>\n",
       "      <th>MTRANS</th>\n",
       "      <th>NObeyesdad</th>\n",
       "    </tr>\n",
       "  </thead>\n",
       "  <tbody>\n",
       "    <tr>\n",
       "      <th>0</th>\n",
       "      <td>0</td>\n",
       "      <td>21.0</td>\n",
       "      <td>1.62</td>\n",
       "      <td>64.0</td>\n",
       "      <td>yes</td>\n",
       "      <td>0</td>\n",
       "      <td>2.0</td>\n",
       "      <td>3.0</td>\n",
       "      <td>Sometimes</td>\n",
       "      <td>no</td>\n",
       "      <td>2.0</td>\n",
       "      <td>no</td>\n",
       "      <td>0.0</td>\n",
       "      <td>1.0</td>\n",
       "      <td>no</td>\n",
       "      <td>Public_Transportation</td>\n",
       "      <td>Normal_Weight</td>\n",
       "    </tr>\n",
       "    <tr>\n",
       "      <th>1</th>\n",
       "      <td>0</td>\n",
       "      <td>21.0</td>\n",
       "      <td>1.52</td>\n",
       "      <td>56.0</td>\n",
       "      <td>yes</td>\n",
       "      <td>0</td>\n",
       "      <td>3.0</td>\n",
       "      <td>3.0</td>\n",
       "      <td>Sometimes</td>\n",
       "      <td>yes</td>\n",
       "      <td>3.0</td>\n",
       "      <td>yes</td>\n",
       "      <td>3.0</td>\n",
       "      <td>0.0</td>\n",
       "      <td>Sometimes</td>\n",
       "      <td>Public_Transportation</td>\n",
       "      <td>Normal_Weight</td>\n",
       "    </tr>\n",
       "    <tr>\n",
       "      <th>2</th>\n",
       "      <td>1</td>\n",
       "      <td>23.0</td>\n",
       "      <td>1.80</td>\n",
       "      <td>77.0</td>\n",
       "      <td>yes</td>\n",
       "      <td>0</td>\n",
       "      <td>2.0</td>\n",
       "      <td>3.0</td>\n",
       "      <td>Sometimes</td>\n",
       "      <td>no</td>\n",
       "      <td>2.0</td>\n",
       "      <td>no</td>\n",
       "      <td>2.0</td>\n",
       "      <td>1.0</td>\n",
       "      <td>Frequently</td>\n",
       "      <td>Public_Transportation</td>\n",
       "      <td>Normal_Weight</td>\n",
       "    </tr>\n",
       "    <tr>\n",
       "      <th>3</th>\n",
       "      <td>1</td>\n",
       "      <td>27.0</td>\n",
       "      <td>1.80</td>\n",
       "      <td>87.0</td>\n",
       "      <td>no</td>\n",
       "      <td>0</td>\n",
       "      <td>3.0</td>\n",
       "      <td>3.0</td>\n",
       "      <td>Sometimes</td>\n",
       "      <td>no</td>\n",
       "      <td>2.0</td>\n",
       "      <td>no</td>\n",
       "      <td>2.0</td>\n",
       "      <td>0.0</td>\n",
       "      <td>Frequently</td>\n",
       "      <td>Walking</td>\n",
       "      <td>Overweight_Level_I</td>\n",
       "    </tr>\n",
       "    <tr>\n",
       "      <th>4</th>\n",
       "      <td>1</td>\n",
       "      <td>22.0</td>\n",
       "      <td>1.78</td>\n",
       "      <td>89.8</td>\n",
       "      <td>no</td>\n",
       "      <td>0</td>\n",
       "      <td>2.0</td>\n",
       "      <td>1.0</td>\n",
       "      <td>Sometimes</td>\n",
       "      <td>no</td>\n",
       "      <td>2.0</td>\n",
       "      <td>no</td>\n",
       "      <td>0.0</td>\n",
       "      <td>0.0</td>\n",
       "      <td>Sometimes</td>\n",
       "      <td>Public_Transportation</td>\n",
       "      <td>Overweight_Level_II</td>\n",
       "    </tr>\n",
       "  </tbody>\n",
       "</table>\n",
       "</div>"
      ],
      "text/plain": [
       "   Gender   Age  Height  Weight family_history_with_overweight  FAVC  FCVC  \\\n",
       "0       0  21.0    1.62    64.0                            yes     0   2.0   \n",
       "1       0  21.0    1.52    56.0                            yes     0   3.0   \n",
       "2       1  23.0    1.80    77.0                            yes     0   2.0   \n",
       "3       1  27.0    1.80    87.0                             no     0   3.0   \n",
       "4       1  22.0    1.78    89.8                             no     0   2.0   \n",
       "\n",
       "   NCP       CAEC SMOKE  CH2O  SCC  FAF  TUE        CALC  \\\n",
       "0  3.0  Sometimes    no   2.0   no  0.0  1.0          no   \n",
       "1  3.0  Sometimes   yes   3.0  yes  3.0  0.0   Sometimes   \n",
       "2  3.0  Sometimes    no   2.0   no  2.0  1.0  Frequently   \n",
       "3  3.0  Sometimes    no   2.0   no  2.0  0.0  Frequently   \n",
       "4  1.0  Sometimes    no   2.0   no  0.0  0.0   Sometimes   \n",
       "\n",
       "                  MTRANS           NObeyesdad  \n",
       "0  Public_Transportation        Normal_Weight  \n",
       "1  Public_Transportation        Normal_Weight  \n",
       "2  Public_Transportation        Normal_Weight  \n",
       "3                Walking   Overweight_Level_I  \n",
       "4  Public_Transportation  Overweight_Level_II  "
      ]
     },
     "execution_count": 178,
     "metadata": {},
     "output_type": "execute_result"
    }
   ],
   "source": [
    "data.head()"
   ]
  },
  {
   "cell_type": "code",
   "execution_count": 179,
   "id": "235dc93a",
   "metadata": {},
   "outputs": [],
   "source": [
    "from sklearn.preprocessing import LabelEncoder\n",
    "encoder2= LabelEncoder()"
   ]
  },
  {
   "cell_type": "code",
   "execution_count": 180,
   "id": "d975b452",
   "metadata": {},
   "outputs": [
    {
     "name": "stderr",
     "output_type": "stream",
     "text": [
      "C:\\ProgramData\\anaconda3\\Lib\\site-packages\\sklearn\\preprocessing\\_label.py:114: DataConversionWarning: A column-vector y was passed when a 1d array was expected. Please change the shape of y to (n_samples, ), for example using ravel().\n",
      "  y = column_or_1d(y, warn=True)\n"
     ]
    }
   ],
   "source": [
    "column_to_encode= ['CALC']\n",
    "column_to_encode_values= data[column_to_encode]\n",
    "encoded_CALC= encoder2.fit_transform(column_to_encode_values)\n",
    "data['CALC']= encoded_CALC"
   ]
  },
  {
   "cell_type": "code",
   "execution_count": 181,
   "id": "9023fbba",
   "metadata": {},
   "outputs": [
    {
     "data": {
      "text/html": [
       "<div>\n",
       "<style scoped>\n",
       "    .dataframe tbody tr th:only-of-type {\n",
       "        vertical-align: middle;\n",
       "    }\n",
       "\n",
       "    .dataframe tbody tr th {\n",
       "        vertical-align: top;\n",
       "    }\n",
       "\n",
       "    .dataframe thead th {\n",
       "        text-align: right;\n",
       "    }\n",
       "</style>\n",
       "<table border=\"1\" class=\"dataframe\">\n",
       "  <thead>\n",
       "    <tr style=\"text-align: right;\">\n",
       "      <th></th>\n",
       "      <th>Gender</th>\n",
       "      <th>Age</th>\n",
       "      <th>Height</th>\n",
       "      <th>Weight</th>\n",
       "      <th>family_history_with_overweight</th>\n",
       "      <th>FAVC</th>\n",
       "      <th>FCVC</th>\n",
       "      <th>NCP</th>\n",
       "      <th>CAEC</th>\n",
       "      <th>SMOKE</th>\n",
       "      <th>CH2O</th>\n",
       "      <th>SCC</th>\n",
       "      <th>FAF</th>\n",
       "      <th>TUE</th>\n",
       "      <th>CALC</th>\n",
       "      <th>MTRANS</th>\n",
       "      <th>NObeyesdad</th>\n",
       "    </tr>\n",
       "  </thead>\n",
       "  <tbody>\n",
       "    <tr>\n",
       "      <th>0</th>\n",
       "      <td>0</td>\n",
       "      <td>21.0</td>\n",
       "      <td>1.62</td>\n",
       "      <td>64.0</td>\n",
       "      <td>yes</td>\n",
       "      <td>0</td>\n",
       "      <td>2.0</td>\n",
       "      <td>3.0</td>\n",
       "      <td>Sometimes</td>\n",
       "      <td>no</td>\n",
       "      <td>2.0</td>\n",
       "      <td>no</td>\n",
       "      <td>0.0</td>\n",
       "      <td>1.0</td>\n",
       "      <td>3</td>\n",
       "      <td>Public_Transportation</td>\n",
       "      <td>Normal_Weight</td>\n",
       "    </tr>\n",
       "    <tr>\n",
       "      <th>1</th>\n",
       "      <td>0</td>\n",
       "      <td>21.0</td>\n",
       "      <td>1.52</td>\n",
       "      <td>56.0</td>\n",
       "      <td>yes</td>\n",
       "      <td>0</td>\n",
       "      <td>3.0</td>\n",
       "      <td>3.0</td>\n",
       "      <td>Sometimes</td>\n",
       "      <td>yes</td>\n",
       "      <td>3.0</td>\n",
       "      <td>yes</td>\n",
       "      <td>3.0</td>\n",
       "      <td>0.0</td>\n",
       "      <td>2</td>\n",
       "      <td>Public_Transportation</td>\n",
       "      <td>Normal_Weight</td>\n",
       "    </tr>\n",
       "    <tr>\n",
       "      <th>2</th>\n",
       "      <td>1</td>\n",
       "      <td>23.0</td>\n",
       "      <td>1.80</td>\n",
       "      <td>77.0</td>\n",
       "      <td>yes</td>\n",
       "      <td>0</td>\n",
       "      <td>2.0</td>\n",
       "      <td>3.0</td>\n",
       "      <td>Sometimes</td>\n",
       "      <td>no</td>\n",
       "      <td>2.0</td>\n",
       "      <td>no</td>\n",
       "      <td>2.0</td>\n",
       "      <td>1.0</td>\n",
       "      <td>1</td>\n",
       "      <td>Public_Transportation</td>\n",
       "      <td>Normal_Weight</td>\n",
       "    </tr>\n",
       "    <tr>\n",
       "      <th>3</th>\n",
       "      <td>1</td>\n",
       "      <td>27.0</td>\n",
       "      <td>1.80</td>\n",
       "      <td>87.0</td>\n",
       "      <td>no</td>\n",
       "      <td>0</td>\n",
       "      <td>3.0</td>\n",
       "      <td>3.0</td>\n",
       "      <td>Sometimes</td>\n",
       "      <td>no</td>\n",
       "      <td>2.0</td>\n",
       "      <td>no</td>\n",
       "      <td>2.0</td>\n",
       "      <td>0.0</td>\n",
       "      <td>1</td>\n",
       "      <td>Walking</td>\n",
       "      <td>Overweight_Level_I</td>\n",
       "    </tr>\n",
       "    <tr>\n",
       "      <th>4</th>\n",
       "      <td>1</td>\n",
       "      <td>22.0</td>\n",
       "      <td>1.78</td>\n",
       "      <td>89.8</td>\n",
       "      <td>no</td>\n",
       "      <td>0</td>\n",
       "      <td>2.0</td>\n",
       "      <td>1.0</td>\n",
       "      <td>Sometimes</td>\n",
       "      <td>no</td>\n",
       "      <td>2.0</td>\n",
       "      <td>no</td>\n",
       "      <td>0.0</td>\n",
       "      <td>0.0</td>\n",
       "      <td>2</td>\n",
       "      <td>Public_Transportation</td>\n",
       "      <td>Overweight_Level_II</td>\n",
       "    </tr>\n",
       "  </tbody>\n",
       "</table>\n",
       "</div>"
      ],
      "text/plain": [
       "   Gender   Age  Height  Weight family_history_with_overweight  FAVC  FCVC  \\\n",
       "0       0  21.0    1.62    64.0                            yes     0   2.0   \n",
       "1       0  21.0    1.52    56.0                            yes     0   3.0   \n",
       "2       1  23.0    1.80    77.0                            yes     0   2.0   \n",
       "3       1  27.0    1.80    87.0                             no     0   3.0   \n",
       "4       1  22.0    1.78    89.8                             no     0   2.0   \n",
       "\n",
       "   NCP       CAEC SMOKE  CH2O  SCC  FAF  TUE  CALC                 MTRANS  \\\n",
       "0  3.0  Sometimes    no   2.0   no  0.0  1.0     3  Public_Transportation   \n",
       "1  3.0  Sometimes   yes   3.0  yes  3.0  0.0     2  Public_Transportation   \n",
       "2  3.0  Sometimes    no   2.0   no  2.0  1.0     1  Public_Transportation   \n",
       "3  3.0  Sometimes    no   2.0   no  2.0  0.0     1                Walking   \n",
       "4  1.0  Sometimes    no   2.0   no  0.0  0.0     2  Public_Transportation   \n",
       "\n",
       "            NObeyesdad  \n",
       "0        Normal_Weight  \n",
       "1        Normal_Weight  \n",
       "2        Normal_Weight  \n",
       "3   Overweight_Level_I  \n",
       "4  Overweight_Level_II  "
      ]
     },
     "execution_count": 181,
     "metadata": {},
     "output_type": "execute_result"
    }
   ],
   "source": [
    "data.head()"
   ]
  },
  {
   "cell_type": "code",
   "execution_count": 182,
   "id": "36cfa5d3",
   "metadata": {},
   "outputs": [
    {
     "data": {
      "text/plain": [
       "Gender                            0\n",
       "Age                               0\n",
       "Height                            0\n",
       "Weight                            0\n",
       "family_history_with_overweight    0\n",
       "FAVC                              0\n",
       "FCVC                              0\n",
       "NCP                               0\n",
       "CAEC                              0\n",
       "SMOKE                             0\n",
       "CH2O                              0\n",
       "SCC                               0\n",
       "FAF                               0\n",
       "TUE                               0\n",
       "CALC                              0\n",
       "MTRANS                            0\n",
       "NObeyesdad                        0\n",
       "dtype: int64"
      ]
     },
     "execution_count": 182,
     "metadata": {},
     "output_type": "execute_result"
    }
   ],
   "source": [
    "data.isna().sum()"
   ]
  },
  {
   "cell_type": "code",
   "execution_count": null,
   "id": "433294a9",
   "metadata": {},
   "outputs": [],
   "source": []
  },
  {
   "cell_type": "code",
   "execution_count": 183,
   "id": "c4e34fed",
   "metadata": {},
   "outputs": [],
   "source": [
    "x= data[['Gender', 'Age', 'Height', 'FAVC', 'NCP', 'CALC', 'FAF', 'TUE']]\n",
    "y= data[['Weight']]"
   ]
  },
  {
   "cell_type": "code",
   "execution_count": 184,
   "id": "5ff49e36",
   "metadata": {},
   "outputs": [
    {
     "data": {
      "text/html": [
       "<div>\n",
       "<style scoped>\n",
       "    .dataframe tbody tr th:only-of-type {\n",
       "        vertical-align: middle;\n",
       "    }\n",
       "\n",
       "    .dataframe tbody tr th {\n",
       "        vertical-align: top;\n",
       "    }\n",
       "\n",
       "    .dataframe thead th {\n",
       "        text-align: right;\n",
       "    }\n",
       "</style>\n",
       "<table border=\"1\" class=\"dataframe\">\n",
       "  <thead>\n",
       "    <tr style=\"text-align: right;\">\n",
       "      <th></th>\n",
       "      <th>Gender</th>\n",
       "      <th>Age</th>\n",
       "      <th>Height</th>\n",
       "      <th>FAVC</th>\n",
       "      <th>NCP</th>\n",
       "      <th>CALC</th>\n",
       "      <th>FAF</th>\n",
       "      <th>TUE</th>\n",
       "    </tr>\n",
       "  </thead>\n",
       "  <tbody>\n",
       "    <tr>\n",
       "      <th>0</th>\n",
       "      <td>0</td>\n",
       "      <td>21.0</td>\n",
       "      <td>1.62</td>\n",
       "      <td>0</td>\n",
       "      <td>3.0</td>\n",
       "      <td>3</td>\n",
       "      <td>0.0</td>\n",
       "      <td>1.0</td>\n",
       "    </tr>\n",
       "    <tr>\n",
       "      <th>1</th>\n",
       "      <td>0</td>\n",
       "      <td>21.0</td>\n",
       "      <td>1.52</td>\n",
       "      <td>0</td>\n",
       "      <td>3.0</td>\n",
       "      <td>2</td>\n",
       "      <td>3.0</td>\n",
       "      <td>0.0</td>\n",
       "    </tr>\n",
       "    <tr>\n",
       "      <th>2</th>\n",
       "      <td>1</td>\n",
       "      <td>23.0</td>\n",
       "      <td>1.80</td>\n",
       "      <td>0</td>\n",
       "      <td>3.0</td>\n",
       "      <td>1</td>\n",
       "      <td>2.0</td>\n",
       "      <td>1.0</td>\n",
       "    </tr>\n",
       "    <tr>\n",
       "      <th>3</th>\n",
       "      <td>1</td>\n",
       "      <td>27.0</td>\n",
       "      <td>1.80</td>\n",
       "      <td>0</td>\n",
       "      <td>3.0</td>\n",
       "      <td>1</td>\n",
       "      <td>2.0</td>\n",
       "      <td>0.0</td>\n",
       "    </tr>\n",
       "    <tr>\n",
       "      <th>4</th>\n",
       "      <td>1</td>\n",
       "      <td>22.0</td>\n",
       "      <td>1.78</td>\n",
       "      <td>0</td>\n",
       "      <td>1.0</td>\n",
       "      <td>2</td>\n",
       "      <td>0.0</td>\n",
       "      <td>0.0</td>\n",
       "    </tr>\n",
       "  </tbody>\n",
       "</table>\n",
       "</div>"
      ],
      "text/plain": [
       "   Gender   Age  Height  FAVC  NCP  CALC  FAF  TUE\n",
       "0       0  21.0    1.62     0  3.0     3  0.0  1.0\n",
       "1       0  21.0    1.52     0  3.0     2  3.0  0.0\n",
       "2       1  23.0    1.80     0  3.0     1  2.0  1.0\n",
       "3       1  27.0    1.80     0  3.0     1  2.0  0.0\n",
       "4       1  22.0    1.78     0  1.0     2  0.0  0.0"
      ]
     },
     "execution_count": 184,
     "metadata": {},
     "output_type": "execute_result"
    }
   ],
   "source": [
    "x.head()"
   ]
  },
  {
   "cell_type": "code",
   "execution_count": 185,
   "id": "7b2d11d2",
   "metadata": {},
   "outputs": [
    {
     "data": {
      "text/html": [
       "<div>\n",
       "<style scoped>\n",
       "    .dataframe tbody tr th:only-of-type {\n",
       "        vertical-align: middle;\n",
       "    }\n",
       "\n",
       "    .dataframe tbody tr th {\n",
       "        vertical-align: top;\n",
       "    }\n",
       "\n",
       "    .dataframe thead th {\n",
       "        text-align: right;\n",
       "    }\n",
       "</style>\n",
       "<table border=\"1\" class=\"dataframe\">\n",
       "  <thead>\n",
       "    <tr style=\"text-align: right;\">\n",
       "      <th></th>\n",
       "      <th>Weight</th>\n",
       "    </tr>\n",
       "  </thead>\n",
       "  <tbody>\n",
       "    <tr>\n",
       "      <th>0</th>\n",
       "      <td>64.0</td>\n",
       "    </tr>\n",
       "    <tr>\n",
       "      <th>1</th>\n",
       "      <td>56.0</td>\n",
       "    </tr>\n",
       "    <tr>\n",
       "      <th>2</th>\n",
       "      <td>77.0</td>\n",
       "    </tr>\n",
       "    <tr>\n",
       "      <th>3</th>\n",
       "      <td>87.0</td>\n",
       "    </tr>\n",
       "    <tr>\n",
       "      <th>4</th>\n",
       "      <td>89.8</td>\n",
       "    </tr>\n",
       "  </tbody>\n",
       "</table>\n",
       "</div>"
      ],
      "text/plain": [
       "   Weight\n",
       "0    64.0\n",
       "1    56.0\n",
       "2    77.0\n",
       "3    87.0\n",
       "4    89.8"
      ]
     },
     "execution_count": 185,
     "metadata": {},
     "output_type": "execute_result"
    }
   ],
   "source": [
    "y.head()"
   ]
  },
  {
   "cell_type": "code",
   "execution_count": null,
   "id": "253f942e",
   "metadata": {},
   "outputs": [],
   "source": []
  },
  {
   "cell_type": "markdown",
   "id": "8e9c5c04",
   "metadata": {},
   "source": [
    "### Scaling\n",
    "### Once encoding done, the values are scaled to bring to the same range for better accuracy."
   ]
  },
  {
   "cell_type": "code",
   "execution_count": 186,
   "id": "6354b9d7",
   "metadata": {},
   "outputs": [
    {
     "data": {
      "text/html": [
       "<style>#sk-container-id-1 {color: black;}#sk-container-id-1 pre{padding: 0;}#sk-container-id-1 div.sk-toggleable {background-color: white;}#sk-container-id-1 label.sk-toggleable__label {cursor: pointer;display: block;width: 100%;margin-bottom: 0;padding: 0.3em;box-sizing: border-box;text-align: center;}#sk-container-id-1 label.sk-toggleable__label-arrow:before {content: \"▸\";float: left;margin-right: 0.25em;color: #696969;}#sk-container-id-1 label.sk-toggleable__label-arrow:hover:before {color: black;}#sk-container-id-1 div.sk-estimator:hover label.sk-toggleable__label-arrow:before {color: black;}#sk-container-id-1 div.sk-toggleable__content {max-height: 0;max-width: 0;overflow: hidden;text-align: left;background-color: #f0f8ff;}#sk-container-id-1 div.sk-toggleable__content pre {margin: 0.2em;color: black;border-radius: 0.25em;background-color: #f0f8ff;}#sk-container-id-1 input.sk-toggleable__control:checked~div.sk-toggleable__content {max-height: 200px;max-width: 100%;overflow: auto;}#sk-container-id-1 input.sk-toggleable__control:checked~label.sk-toggleable__label-arrow:before {content: \"▾\";}#sk-container-id-1 div.sk-estimator input.sk-toggleable__control:checked~label.sk-toggleable__label {background-color: #d4ebff;}#sk-container-id-1 div.sk-label input.sk-toggleable__control:checked~label.sk-toggleable__label {background-color: #d4ebff;}#sk-container-id-1 input.sk-hidden--visually {border: 0;clip: rect(1px 1px 1px 1px);clip: rect(1px, 1px, 1px, 1px);height: 1px;margin: -1px;overflow: hidden;padding: 0;position: absolute;width: 1px;}#sk-container-id-1 div.sk-estimator {font-family: monospace;background-color: #f0f8ff;border: 1px dotted black;border-radius: 0.25em;box-sizing: border-box;margin-bottom: 0.5em;}#sk-container-id-1 div.sk-estimator:hover {background-color: #d4ebff;}#sk-container-id-1 div.sk-parallel-item::after {content: \"\";width: 100%;border-bottom: 1px solid gray;flex-grow: 1;}#sk-container-id-1 div.sk-label:hover label.sk-toggleable__label {background-color: #d4ebff;}#sk-container-id-1 div.sk-serial::before {content: \"\";position: absolute;border-left: 1px solid gray;box-sizing: border-box;top: 0;bottom: 0;left: 50%;z-index: 0;}#sk-container-id-1 div.sk-serial {display: flex;flex-direction: column;align-items: center;background-color: white;padding-right: 0.2em;padding-left: 0.2em;position: relative;}#sk-container-id-1 div.sk-item {position: relative;z-index: 1;}#sk-container-id-1 div.sk-parallel {display: flex;align-items: stretch;justify-content: center;background-color: white;position: relative;}#sk-container-id-1 div.sk-item::before, #sk-container-id-1 div.sk-parallel-item::before {content: \"\";position: absolute;border-left: 1px solid gray;box-sizing: border-box;top: 0;bottom: 0;left: 50%;z-index: -1;}#sk-container-id-1 div.sk-parallel-item {display: flex;flex-direction: column;z-index: 1;position: relative;background-color: white;}#sk-container-id-1 div.sk-parallel-item:first-child::after {align-self: flex-end;width: 50%;}#sk-container-id-1 div.sk-parallel-item:last-child::after {align-self: flex-start;width: 50%;}#sk-container-id-1 div.sk-parallel-item:only-child::after {width: 0;}#sk-container-id-1 div.sk-dashed-wrapped {border: 1px dashed gray;margin: 0 0.4em 0.5em 0.4em;box-sizing: border-box;padding-bottom: 0.4em;background-color: white;}#sk-container-id-1 div.sk-label label {font-family: monospace;font-weight: bold;display: inline-block;line-height: 1.2em;}#sk-container-id-1 div.sk-label-container {text-align: center;}#sk-container-id-1 div.sk-container {/* jupyter's `normalize.less` sets `[hidden] { display: none; }` but bootstrap.min.css set `[hidden] { display: none !important; }` so we also need the `!important` here to be able to override the default hidden behavior on the sphinx rendered scikit-learn.org. See: https://github.com/scikit-learn/scikit-learn/issues/21755 */display: inline-block !important;position: relative;}#sk-container-id-1 div.sk-text-repr-fallback {display: none;}</style><div id=\"sk-container-id-1\" class=\"sk-top-container\"><div class=\"sk-text-repr-fallback\"><pre>StandardScaler()</pre><b>In a Jupyter environment, please rerun this cell to show the HTML representation or trust the notebook. <br />On GitHub, the HTML representation is unable to render, please try loading this page with nbviewer.org.</b></div><div class=\"sk-container\" hidden><div class=\"sk-item\"><div class=\"sk-estimator sk-toggleable\"><input class=\"sk-toggleable__control sk-hidden--visually\" id=\"sk-estimator-id-1\" type=\"checkbox\" checked><label for=\"sk-estimator-id-1\" class=\"sk-toggleable__label sk-toggleable__label-arrow\">StandardScaler</label><div class=\"sk-toggleable__content\"><pre>StandardScaler()</pre></div></div></div></div></div>"
      ],
      "text/plain": [
       "StandardScaler()"
      ]
     },
     "execution_count": 186,
     "metadata": {},
     "output_type": "execute_result"
    }
   ],
   "source": [
    "from sklearn.preprocessing import StandardScaler\n",
    "scaler= StandardScaler()\n",
    "scaler"
   ]
  },
  {
   "cell_type": "code",
   "execution_count": 187,
   "id": "3c7504fd",
   "metadata": {},
   "outputs": [],
   "source": [
    "x= scaler.fit_transform(x)"
   ]
  },
  {
   "cell_type": "code",
   "execution_count": 189,
   "id": "fb92952b",
   "metadata": {},
   "outputs": [
    {
     "data": {
      "text/plain": [
       "array([[-1.01150565, -0.47535895, -0.87916264, ...,  1.4218292 ,\n",
       "        -1.19035615,  0.56579785],\n",
       "       [-1.01150565, -0.47535895, -1.95072115, ..., -0.51896303,\n",
       "         2.34742806, -1.08002823],\n",
       "       [ 0.98862522, -0.20438576,  1.04964267, ..., -2.45975527,\n",
       "         1.16816666,  0.56579785],\n",
       "       ...,\n",
       "       [-1.01150565, -0.2688725 ,  0.537502  , ..., -0.51896303,\n",
       "         0.47736594, -0.01635058],\n",
       "       [-1.01150565, -0.01986168,  0.40081399, ..., -0.51896303,\n",
       "         0.15294877, -0.11551654],\n",
       "       [-1.01150565, -0.1143266 ,  0.39423462, ..., -0.51896303,\n",
       "         0.02009908,  0.09531707]])"
      ]
     },
     "execution_count": 189,
     "metadata": {},
     "output_type": "execute_result"
    }
   ],
   "source": [
    "x"
   ]
  },
  {
   "cell_type": "code",
   "execution_count": 190,
   "id": "6ca01295",
   "metadata": {},
   "outputs": [
    {
     "data": {
      "text/html": [
       "<style>#sk-container-id-2 {color: black;}#sk-container-id-2 pre{padding: 0;}#sk-container-id-2 div.sk-toggleable {background-color: white;}#sk-container-id-2 label.sk-toggleable__label {cursor: pointer;display: block;width: 100%;margin-bottom: 0;padding: 0.3em;box-sizing: border-box;text-align: center;}#sk-container-id-2 label.sk-toggleable__label-arrow:before {content: \"▸\";float: left;margin-right: 0.25em;color: #696969;}#sk-container-id-2 label.sk-toggleable__label-arrow:hover:before {color: black;}#sk-container-id-2 div.sk-estimator:hover label.sk-toggleable__label-arrow:before {color: black;}#sk-container-id-2 div.sk-toggleable__content {max-height: 0;max-width: 0;overflow: hidden;text-align: left;background-color: #f0f8ff;}#sk-container-id-2 div.sk-toggleable__content pre {margin: 0.2em;color: black;border-radius: 0.25em;background-color: #f0f8ff;}#sk-container-id-2 input.sk-toggleable__control:checked~div.sk-toggleable__content {max-height: 200px;max-width: 100%;overflow: auto;}#sk-container-id-2 input.sk-toggleable__control:checked~label.sk-toggleable__label-arrow:before {content: \"▾\";}#sk-container-id-2 div.sk-estimator input.sk-toggleable__control:checked~label.sk-toggleable__label {background-color: #d4ebff;}#sk-container-id-2 div.sk-label input.sk-toggleable__control:checked~label.sk-toggleable__label {background-color: #d4ebff;}#sk-container-id-2 input.sk-hidden--visually {border: 0;clip: rect(1px 1px 1px 1px);clip: rect(1px, 1px, 1px, 1px);height: 1px;margin: -1px;overflow: hidden;padding: 0;position: absolute;width: 1px;}#sk-container-id-2 div.sk-estimator {font-family: monospace;background-color: #f0f8ff;border: 1px dotted black;border-radius: 0.25em;box-sizing: border-box;margin-bottom: 0.5em;}#sk-container-id-2 div.sk-estimator:hover {background-color: #d4ebff;}#sk-container-id-2 div.sk-parallel-item::after {content: \"\";width: 100%;border-bottom: 1px solid gray;flex-grow: 1;}#sk-container-id-2 div.sk-label:hover label.sk-toggleable__label {background-color: #d4ebff;}#sk-container-id-2 div.sk-serial::before {content: \"\";position: absolute;border-left: 1px solid gray;box-sizing: border-box;top: 0;bottom: 0;left: 50%;z-index: 0;}#sk-container-id-2 div.sk-serial {display: flex;flex-direction: column;align-items: center;background-color: white;padding-right: 0.2em;padding-left: 0.2em;position: relative;}#sk-container-id-2 div.sk-item {position: relative;z-index: 1;}#sk-container-id-2 div.sk-parallel {display: flex;align-items: stretch;justify-content: center;background-color: white;position: relative;}#sk-container-id-2 div.sk-item::before, #sk-container-id-2 div.sk-parallel-item::before {content: \"\";position: absolute;border-left: 1px solid gray;box-sizing: border-box;top: 0;bottom: 0;left: 50%;z-index: -1;}#sk-container-id-2 div.sk-parallel-item {display: flex;flex-direction: column;z-index: 1;position: relative;background-color: white;}#sk-container-id-2 div.sk-parallel-item:first-child::after {align-self: flex-end;width: 50%;}#sk-container-id-2 div.sk-parallel-item:last-child::after {align-self: flex-start;width: 50%;}#sk-container-id-2 div.sk-parallel-item:only-child::after {width: 0;}#sk-container-id-2 div.sk-dashed-wrapped {border: 1px dashed gray;margin: 0 0.4em 0.5em 0.4em;box-sizing: border-box;padding-bottom: 0.4em;background-color: white;}#sk-container-id-2 div.sk-label label {font-family: monospace;font-weight: bold;display: inline-block;line-height: 1.2em;}#sk-container-id-2 div.sk-label-container {text-align: center;}#sk-container-id-2 div.sk-container {/* jupyter's `normalize.less` sets `[hidden] { display: none; }` but bootstrap.min.css set `[hidden] { display: none !important; }` so we also need the `!important` here to be able to override the default hidden behavior on the sphinx rendered scikit-learn.org. See: https://github.com/scikit-learn/scikit-learn/issues/21755 */display: inline-block !important;position: relative;}#sk-container-id-2 div.sk-text-repr-fallback {display: none;}</style><div id=\"sk-container-id-2\" class=\"sk-top-container\"><div class=\"sk-text-repr-fallback\"><pre>StandardScaler()</pre><b>In a Jupyter environment, please rerun this cell to show the HTML representation or trust the notebook. <br />On GitHub, the HTML representation is unable to render, please try loading this page with nbviewer.org.</b></div><div class=\"sk-container\" hidden><div class=\"sk-item\"><div class=\"sk-estimator sk-toggleable\"><input class=\"sk-toggleable__control sk-hidden--visually\" id=\"sk-estimator-id-2\" type=\"checkbox\" checked><label for=\"sk-estimator-id-2\" class=\"sk-toggleable__label sk-toggleable__label-arrow\">StandardScaler</label><div class=\"sk-toggleable__content\"><pre>StandardScaler()</pre></div></div></div></div></div>"
      ],
      "text/plain": [
       "StandardScaler()"
      ]
     },
     "execution_count": 190,
     "metadata": {},
     "output_type": "execute_result"
    }
   ],
   "source": [
    "from sklearn.preprocessing import StandardScaler\n",
    "scaler1= StandardScaler()\n",
    "scaler1"
   ]
  },
  {
   "cell_type": "code",
   "execution_count": 191,
   "id": "9e22b57a",
   "metadata": {},
   "outputs": [],
   "source": [
    "y= scaler1.fit_transform(y)"
   ]
  },
  {
   "cell_type": "code",
   "execution_count": 192,
   "id": "491070db",
   "metadata": {},
   "outputs": [
    {
     "data": {
      "text/plain": [
       "array([[-0.87023633],\n",
       "       [-1.17604419],\n",
       "       [-0.37329856],\n",
       "       ...,\n",
       "       [ 1.79370762],\n",
       "       [ 1.78060715],\n",
       "       [ 1.78542363]])"
      ]
     },
     "execution_count": 192,
     "metadata": {},
     "output_type": "execute_result"
    }
   ],
   "source": [
    "y"
   ]
  },
  {
   "cell_type": "code",
   "execution_count": null,
   "id": "9dca3ac6",
   "metadata": {},
   "outputs": [],
   "source": []
  },
  {
   "cell_type": "markdown",
   "id": "6f92381e",
   "metadata": {},
   "source": [
    "# Dividing the dataset into train and test data set\n",
    "### This is to train the various model and then check their accuracy by predicting using the test dataset"
   ]
  },
  {
   "cell_type": "code",
   "execution_count": 193,
   "id": "bea154c1",
   "metadata": {},
   "outputs": [],
   "source": [
    "from sklearn.model_selection import train_test_split\n",
    "x_train,x_test,y_train,y_test= train_test_split(x,y,test_size=0.20,random_state=42)"
   ]
  },
  {
   "cell_type": "code",
   "execution_count": 194,
   "id": "ae6d26d7",
   "metadata": {},
   "outputs": [
    {
     "data": {
      "text/plain": [
       "(1678, 8)"
      ]
     },
     "execution_count": 194,
     "metadata": {},
     "output_type": "execute_result"
    }
   ],
   "source": [
    "x_train.shape"
   ]
  },
  {
   "cell_type": "code",
   "execution_count": 195,
   "id": "e1d0bec2",
   "metadata": {},
   "outputs": [
    {
     "data": {
      "text/plain": [
       "(420, 8)"
      ]
     },
     "execution_count": 195,
     "metadata": {},
     "output_type": "execute_result"
    }
   ],
   "source": [
    "x_test.shape"
   ]
  },
  {
   "cell_type": "code",
   "execution_count": 196,
   "id": "55afc095",
   "metadata": {},
   "outputs": [
    {
     "data": {
      "text/plain": [
       "(1678, 1)"
      ]
     },
     "execution_count": 196,
     "metadata": {},
     "output_type": "execute_result"
    }
   ],
   "source": [
    "y_train.shape"
   ]
  },
  {
   "cell_type": "code",
   "execution_count": 197,
   "id": "6d3c8d9f",
   "metadata": {},
   "outputs": [
    {
     "data": {
      "text/plain": [
       "(420, 1)"
      ]
     },
     "execution_count": 197,
     "metadata": {},
     "output_type": "execute_result"
    }
   ],
   "source": [
    "y_test.shape"
   ]
  },
  {
   "cell_type": "code",
   "execution_count": null,
   "id": "19d2de07",
   "metadata": {},
   "outputs": [],
   "source": []
  },
  {
   "cell_type": "markdown",
   "id": "c0b7bc8d",
   "metadata": {},
   "source": [
    "### Regression is used for creating the model because the prediction to be made is for 'Weight', which is a continous data."
   ]
  },
  {
   "cell_type": "markdown",
   "id": "243462db",
   "metadata": {},
   "source": [
    "# Using Multiple Regression Algorithm"
   ]
  },
  {
   "cell_type": "code",
   "execution_count": 198,
   "id": "0213bd13",
   "metadata": {},
   "outputs": [
    {
     "data": {
      "text/html": [
       "<style>#sk-container-id-3 {color: black;}#sk-container-id-3 pre{padding: 0;}#sk-container-id-3 div.sk-toggleable {background-color: white;}#sk-container-id-3 label.sk-toggleable__label {cursor: pointer;display: block;width: 100%;margin-bottom: 0;padding: 0.3em;box-sizing: border-box;text-align: center;}#sk-container-id-3 label.sk-toggleable__label-arrow:before {content: \"▸\";float: left;margin-right: 0.25em;color: #696969;}#sk-container-id-3 label.sk-toggleable__label-arrow:hover:before {color: black;}#sk-container-id-3 div.sk-estimator:hover label.sk-toggleable__label-arrow:before {color: black;}#sk-container-id-3 div.sk-toggleable__content {max-height: 0;max-width: 0;overflow: hidden;text-align: left;background-color: #f0f8ff;}#sk-container-id-3 div.sk-toggleable__content pre {margin: 0.2em;color: black;border-radius: 0.25em;background-color: #f0f8ff;}#sk-container-id-3 input.sk-toggleable__control:checked~div.sk-toggleable__content {max-height: 200px;max-width: 100%;overflow: auto;}#sk-container-id-3 input.sk-toggleable__control:checked~label.sk-toggleable__label-arrow:before {content: \"▾\";}#sk-container-id-3 div.sk-estimator input.sk-toggleable__control:checked~label.sk-toggleable__label {background-color: #d4ebff;}#sk-container-id-3 div.sk-label input.sk-toggleable__control:checked~label.sk-toggleable__label {background-color: #d4ebff;}#sk-container-id-3 input.sk-hidden--visually {border: 0;clip: rect(1px 1px 1px 1px);clip: rect(1px, 1px, 1px, 1px);height: 1px;margin: -1px;overflow: hidden;padding: 0;position: absolute;width: 1px;}#sk-container-id-3 div.sk-estimator {font-family: monospace;background-color: #f0f8ff;border: 1px dotted black;border-radius: 0.25em;box-sizing: border-box;margin-bottom: 0.5em;}#sk-container-id-3 div.sk-estimator:hover {background-color: #d4ebff;}#sk-container-id-3 div.sk-parallel-item::after {content: \"\";width: 100%;border-bottom: 1px solid gray;flex-grow: 1;}#sk-container-id-3 div.sk-label:hover label.sk-toggleable__label {background-color: #d4ebff;}#sk-container-id-3 div.sk-serial::before {content: \"\";position: absolute;border-left: 1px solid gray;box-sizing: border-box;top: 0;bottom: 0;left: 50%;z-index: 0;}#sk-container-id-3 div.sk-serial {display: flex;flex-direction: column;align-items: center;background-color: white;padding-right: 0.2em;padding-left: 0.2em;position: relative;}#sk-container-id-3 div.sk-item {position: relative;z-index: 1;}#sk-container-id-3 div.sk-parallel {display: flex;align-items: stretch;justify-content: center;background-color: white;position: relative;}#sk-container-id-3 div.sk-item::before, #sk-container-id-3 div.sk-parallel-item::before {content: \"\";position: absolute;border-left: 1px solid gray;box-sizing: border-box;top: 0;bottom: 0;left: 50%;z-index: -1;}#sk-container-id-3 div.sk-parallel-item {display: flex;flex-direction: column;z-index: 1;position: relative;background-color: white;}#sk-container-id-3 div.sk-parallel-item:first-child::after {align-self: flex-end;width: 50%;}#sk-container-id-3 div.sk-parallel-item:last-child::after {align-self: flex-start;width: 50%;}#sk-container-id-3 div.sk-parallel-item:only-child::after {width: 0;}#sk-container-id-3 div.sk-dashed-wrapped {border: 1px dashed gray;margin: 0 0.4em 0.5em 0.4em;box-sizing: border-box;padding-bottom: 0.4em;background-color: white;}#sk-container-id-3 div.sk-label label {font-family: monospace;font-weight: bold;display: inline-block;line-height: 1.2em;}#sk-container-id-3 div.sk-label-container {text-align: center;}#sk-container-id-3 div.sk-container {/* jupyter's `normalize.less` sets `[hidden] { display: none; }` but bootstrap.min.css set `[hidden] { display: none !important; }` so we also need the `!important` here to be able to override the default hidden behavior on the sphinx rendered scikit-learn.org. See: https://github.com/scikit-learn/scikit-learn/issues/21755 */display: inline-block !important;position: relative;}#sk-container-id-3 div.sk-text-repr-fallback {display: none;}</style><div id=\"sk-container-id-3\" class=\"sk-top-container\"><div class=\"sk-text-repr-fallback\"><pre>LinearRegression()</pre><b>In a Jupyter environment, please rerun this cell to show the HTML representation or trust the notebook. <br />On GitHub, the HTML representation is unable to render, please try loading this page with nbviewer.org.</b></div><div class=\"sk-container\" hidden><div class=\"sk-item\"><div class=\"sk-estimator sk-toggleable\"><input class=\"sk-toggleable__control sk-hidden--visually\" id=\"sk-estimator-id-3\" type=\"checkbox\" checked><label for=\"sk-estimator-id-3\" class=\"sk-toggleable__label sk-toggleable__label-arrow\">LinearRegression</label><div class=\"sk-toggleable__content\"><pre>LinearRegression()</pre></div></div></div></div></div>"
      ],
      "text/plain": [
       "LinearRegression()"
      ]
     },
     "execution_count": 198,
     "metadata": {},
     "output_type": "execute_result"
    }
   ],
   "source": [
    "from sklearn.linear_model import LinearRegression\n",
    "model_lr= LinearRegression().fit(x_train,y_train)\n",
    "model_lr"
   ]
  },
  {
   "cell_type": "code",
   "execution_count": 199,
   "id": "7f710974",
   "metadata": {},
   "outputs": [],
   "source": [
    "y_predict_lr= model_lr.predict(x_test)"
   ]
  },
  {
   "cell_type": "code",
   "execution_count": null,
   "id": "43edd3c4",
   "metadata": {},
   "outputs": [],
   "source": []
  },
  {
   "cell_type": "markdown",
   "id": "f27a9d82",
   "metadata": {},
   "source": [
    "# Using Decision Tree Algorithm "
   ]
  },
  {
   "cell_type": "code",
   "execution_count": 200,
   "id": "a3f023d8",
   "metadata": {},
   "outputs": [
    {
     "data": {
      "text/html": [
       "<style>#sk-container-id-4 {color: black;}#sk-container-id-4 pre{padding: 0;}#sk-container-id-4 div.sk-toggleable {background-color: white;}#sk-container-id-4 label.sk-toggleable__label {cursor: pointer;display: block;width: 100%;margin-bottom: 0;padding: 0.3em;box-sizing: border-box;text-align: center;}#sk-container-id-4 label.sk-toggleable__label-arrow:before {content: \"▸\";float: left;margin-right: 0.25em;color: #696969;}#sk-container-id-4 label.sk-toggleable__label-arrow:hover:before {color: black;}#sk-container-id-4 div.sk-estimator:hover label.sk-toggleable__label-arrow:before {color: black;}#sk-container-id-4 div.sk-toggleable__content {max-height: 0;max-width: 0;overflow: hidden;text-align: left;background-color: #f0f8ff;}#sk-container-id-4 div.sk-toggleable__content pre {margin: 0.2em;color: black;border-radius: 0.25em;background-color: #f0f8ff;}#sk-container-id-4 input.sk-toggleable__control:checked~div.sk-toggleable__content {max-height: 200px;max-width: 100%;overflow: auto;}#sk-container-id-4 input.sk-toggleable__control:checked~label.sk-toggleable__label-arrow:before {content: \"▾\";}#sk-container-id-4 div.sk-estimator input.sk-toggleable__control:checked~label.sk-toggleable__label {background-color: #d4ebff;}#sk-container-id-4 div.sk-label input.sk-toggleable__control:checked~label.sk-toggleable__label {background-color: #d4ebff;}#sk-container-id-4 input.sk-hidden--visually {border: 0;clip: rect(1px 1px 1px 1px);clip: rect(1px, 1px, 1px, 1px);height: 1px;margin: -1px;overflow: hidden;padding: 0;position: absolute;width: 1px;}#sk-container-id-4 div.sk-estimator {font-family: monospace;background-color: #f0f8ff;border: 1px dotted black;border-radius: 0.25em;box-sizing: border-box;margin-bottom: 0.5em;}#sk-container-id-4 div.sk-estimator:hover {background-color: #d4ebff;}#sk-container-id-4 div.sk-parallel-item::after {content: \"\";width: 100%;border-bottom: 1px solid gray;flex-grow: 1;}#sk-container-id-4 div.sk-label:hover label.sk-toggleable__label {background-color: #d4ebff;}#sk-container-id-4 div.sk-serial::before {content: \"\";position: absolute;border-left: 1px solid gray;box-sizing: border-box;top: 0;bottom: 0;left: 50%;z-index: 0;}#sk-container-id-4 div.sk-serial {display: flex;flex-direction: column;align-items: center;background-color: white;padding-right: 0.2em;padding-left: 0.2em;position: relative;}#sk-container-id-4 div.sk-item {position: relative;z-index: 1;}#sk-container-id-4 div.sk-parallel {display: flex;align-items: stretch;justify-content: center;background-color: white;position: relative;}#sk-container-id-4 div.sk-item::before, #sk-container-id-4 div.sk-parallel-item::before {content: \"\";position: absolute;border-left: 1px solid gray;box-sizing: border-box;top: 0;bottom: 0;left: 50%;z-index: -1;}#sk-container-id-4 div.sk-parallel-item {display: flex;flex-direction: column;z-index: 1;position: relative;background-color: white;}#sk-container-id-4 div.sk-parallel-item:first-child::after {align-self: flex-end;width: 50%;}#sk-container-id-4 div.sk-parallel-item:last-child::after {align-self: flex-start;width: 50%;}#sk-container-id-4 div.sk-parallel-item:only-child::after {width: 0;}#sk-container-id-4 div.sk-dashed-wrapped {border: 1px dashed gray;margin: 0 0.4em 0.5em 0.4em;box-sizing: border-box;padding-bottom: 0.4em;background-color: white;}#sk-container-id-4 div.sk-label label {font-family: monospace;font-weight: bold;display: inline-block;line-height: 1.2em;}#sk-container-id-4 div.sk-label-container {text-align: center;}#sk-container-id-4 div.sk-container {/* jupyter's `normalize.less` sets `[hidden] { display: none; }` but bootstrap.min.css set `[hidden] { display: none !important; }` so we also need the `!important` here to be able to override the default hidden behavior on the sphinx rendered scikit-learn.org. See: https://github.com/scikit-learn/scikit-learn/issues/21755 */display: inline-block !important;position: relative;}#sk-container-id-4 div.sk-text-repr-fallback {display: none;}</style><div id=\"sk-container-id-4\" class=\"sk-top-container\"><div class=\"sk-text-repr-fallback\"><pre>DecisionTreeRegressor()</pre><b>In a Jupyter environment, please rerun this cell to show the HTML representation or trust the notebook. <br />On GitHub, the HTML representation is unable to render, please try loading this page with nbviewer.org.</b></div><div class=\"sk-container\" hidden><div class=\"sk-item\"><div class=\"sk-estimator sk-toggleable\"><input class=\"sk-toggleable__control sk-hidden--visually\" id=\"sk-estimator-id-4\" type=\"checkbox\" checked><label for=\"sk-estimator-id-4\" class=\"sk-toggleable__label sk-toggleable__label-arrow\">DecisionTreeRegressor</label><div class=\"sk-toggleable__content\"><pre>DecisionTreeRegressor()</pre></div></div></div></div></div>"
      ],
      "text/plain": [
       "DecisionTreeRegressor()"
      ]
     },
     "execution_count": 200,
     "metadata": {},
     "output_type": "execute_result"
    }
   ],
   "source": [
    "from sklearn.tree import DecisionTreeRegressor\n",
    "model_dt= DecisionTreeRegressor().fit(x_train,y_train)\n",
    "model_dt"
   ]
  },
  {
   "cell_type": "code",
   "execution_count": 201,
   "id": "25c09763",
   "metadata": {},
   "outputs": [],
   "source": [
    "y_predict_dt= model_dt.predict(x_test)"
   ]
  },
  {
   "cell_type": "code",
   "execution_count": null,
   "id": "f762e60b",
   "metadata": {},
   "outputs": [],
   "source": []
  },
  {
   "cell_type": "markdown",
   "id": "b994c984",
   "metadata": {},
   "source": [
    "# Using RandomForest Algorithm"
   ]
  },
  {
   "cell_type": "code",
   "execution_count": 202,
   "id": "70762087",
   "metadata": {},
   "outputs": [
    {
     "name": "stderr",
     "output_type": "stream",
     "text": [
      "C:\\ProgramData\\anaconda3\\Lib\\site-packages\\sklearn\\base.py:1151: DataConversionWarning: A column-vector y was passed when a 1d array was expected. Please change the shape of y to (n_samples,), for example using ravel().\n",
      "  return fit_method(estimator, *args, **kwargs)\n"
     ]
    },
    {
     "data": {
      "text/html": [
       "<style>#sk-container-id-5 {color: black;}#sk-container-id-5 pre{padding: 0;}#sk-container-id-5 div.sk-toggleable {background-color: white;}#sk-container-id-5 label.sk-toggleable__label {cursor: pointer;display: block;width: 100%;margin-bottom: 0;padding: 0.3em;box-sizing: border-box;text-align: center;}#sk-container-id-5 label.sk-toggleable__label-arrow:before {content: \"▸\";float: left;margin-right: 0.25em;color: #696969;}#sk-container-id-5 label.sk-toggleable__label-arrow:hover:before {color: black;}#sk-container-id-5 div.sk-estimator:hover label.sk-toggleable__label-arrow:before {color: black;}#sk-container-id-5 div.sk-toggleable__content {max-height: 0;max-width: 0;overflow: hidden;text-align: left;background-color: #f0f8ff;}#sk-container-id-5 div.sk-toggleable__content pre {margin: 0.2em;color: black;border-radius: 0.25em;background-color: #f0f8ff;}#sk-container-id-5 input.sk-toggleable__control:checked~div.sk-toggleable__content {max-height: 200px;max-width: 100%;overflow: auto;}#sk-container-id-5 input.sk-toggleable__control:checked~label.sk-toggleable__label-arrow:before {content: \"▾\";}#sk-container-id-5 div.sk-estimator input.sk-toggleable__control:checked~label.sk-toggleable__label {background-color: #d4ebff;}#sk-container-id-5 div.sk-label input.sk-toggleable__control:checked~label.sk-toggleable__label {background-color: #d4ebff;}#sk-container-id-5 input.sk-hidden--visually {border: 0;clip: rect(1px 1px 1px 1px);clip: rect(1px, 1px, 1px, 1px);height: 1px;margin: -1px;overflow: hidden;padding: 0;position: absolute;width: 1px;}#sk-container-id-5 div.sk-estimator {font-family: monospace;background-color: #f0f8ff;border: 1px dotted black;border-radius: 0.25em;box-sizing: border-box;margin-bottom: 0.5em;}#sk-container-id-5 div.sk-estimator:hover {background-color: #d4ebff;}#sk-container-id-5 div.sk-parallel-item::after {content: \"\";width: 100%;border-bottom: 1px solid gray;flex-grow: 1;}#sk-container-id-5 div.sk-label:hover label.sk-toggleable__label {background-color: #d4ebff;}#sk-container-id-5 div.sk-serial::before {content: \"\";position: absolute;border-left: 1px solid gray;box-sizing: border-box;top: 0;bottom: 0;left: 50%;z-index: 0;}#sk-container-id-5 div.sk-serial {display: flex;flex-direction: column;align-items: center;background-color: white;padding-right: 0.2em;padding-left: 0.2em;position: relative;}#sk-container-id-5 div.sk-item {position: relative;z-index: 1;}#sk-container-id-5 div.sk-parallel {display: flex;align-items: stretch;justify-content: center;background-color: white;position: relative;}#sk-container-id-5 div.sk-item::before, #sk-container-id-5 div.sk-parallel-item::before {content: \"\";position: absolute;border-left: 1px solid gray;box-sizing: border-box;top: 0;bottom: 0;left: 50%;z-index: -1;}#sk-container-id-5 div.sk-parallel-item {display: flex;flex-direction: column;z-index: 1;position: relative;background-color: white;}#sk-container-id-5 div.sk-parallel-item:first-child::after {align-self: flex-end;width: 50%;}#sk-container-id-5 div.sk-parallel-item:last-child::after {align-self: flex-start;width: 50%;}#sk-container-id-5 div.sk-parallel-item:only-child::after {width: 0;}#sk-container-id-5 div.sk-dashed-wrapped {border: 1px dashed gray;margin: 0 0.4em 0.5em 0.4em;box-sizing: border-box;padding-bottom: 0.4em;background-color: white;}#sk-container-id-5 div.sk-label label {font-family: monospace;font-weight: bold;display: inline-block;line-height: 1.2em;}#sk-container-id-5 div.sk-label-container {text-align: center;}#sk-container-id-5 div.sk-container {/* jupyter's `normalize.less` sets `[hidden] { display: none; }` but bootstrap.min.css set `[hidden] { display: none !important; }` so we also need the `!important` here to be able to override the default hidden behavior on the sphinx rendered scikit-learn.org. See: https://github.com/scikit-learn/scikit-learn/issues/21755 */display: inline-block !important;position: relative;}#sk-container-id-5 div.sk-text-repr-fallback {display: none;}</style><div id=\"sk-container-id-5\" class=\"sk-top-container\"><div class=\"sk-text-repr-fallback\"><pre>RandomForestRegressor(max_depth=25)</pre><b>In a Jupyter environment, please rerun this cell to show the HTML representation or trust the notebook. <br />On GitHub, the HTML representation is unable to render, please try loading this page with nbviewer.org.</b></div><div class=\"sk-container\" hidden><div class=\"sk-item\"><div class=\"sk-estimator sk-toggleable\"><input class=\"sk-toggleable__control sk-hidden--visually\" id=\"sk-estimator-id-5\" type=\"checkbox\" checked><label for=\"sk-estimator-id-5\" class=\"sk-toggleable__label sk-toggleable__label-arrow\">RandomForestRegressor</label><div class=\"sk-toggleable__content\"><pre>RandomForestRegressor(max_depth=25)</pre></div></div></div></div></div>"
      ],
      "text/plain": [
       "RandomForestRegressor(max_depth=25)"
      ]
     },
     "execution_count": 202,
     "metadata": {},
     "output_type": "execute_result"
    }
   ],
   "source": [
    "from sklearn.ensemble import RandomForestRegressor\n",
    "model_rf= RandomForestRegressor(n_estimators=100, max_depth=25).fit(x_train,y_train)\n",
    "model_rf"
   ]
  },
  {
   "cell_type": "code",
   "execution_count": 203,
   "id": "8f4cce24",
   "metadata": {},
   "outputs": [],
   "source": [
    "y_predict_rf= model_rf.predict(x_test)"
   ]
  },
  {
   "cell_type": "code",
   "execution_count": null,
   "id": "b9c525a2",
   "metadata": {},
   "outputs": [],
   "source": []
  },
  {
   "cell_type": "code",
   "execution_count": null,
   "id": "c1f1fe95",
   "metadata": {},
   "outputs": [],
   "source": []
  },
  {
   "cell_type": "markdown",
   "id": "9a9aa87f",
   "metadata": {},
   "source": [
    "# Checking the accuracy of three models"
   ]
  },
  {
   "cell_type": "code",
   "execution_count": 204,
   "id": "01e106f9",
   "metadata": {},
   "outputs": [],
   "source": [
    "from sklearn.metrics import mean_absolute_error, mean_squared_error, accuracy_score"
   ]
  },
  {
   "cell_type": "code",
   "execution_count": 205,
   "id": "267a6bca",
   "metadata": {},
   "outputs": [],
   "source": [
    "MAE_lr= mean_absolute_error(y_predict_lr,y_test)\n",
    "MAE_dt= mean_absolute_error(y_predict_dt,y_test)\n",
    "MAE_rf= mean_absolute_error(y_predict_rf,y_test)"
   ]
  },
  {
   "cell_type": "code",
   "execution_count": 206,
   "id": "9f38d4f0",
   "metadata": {},
   "outputs": [
    {
     "name": "stdout",
     "output_type": "stream",
     "text": [
      "0.6916684136644649 0.2879842459159229 0.24057792735706504\n"
     ]
    }
   ],
   "source": [
    "print(MAE_lr, MAE_dt, MAE_rf)"
   ]
  },
  {
   "cell_type": "code",
   "execution_count": null,
   "id": "6f02eecd",
   "metadata": {},
   "outputs": [],
   "source": []
  },
  {
   "cell_type": "code",
   "execution_count": 207,
   "id": "29e035af",
   "metadata": {},
   "outputs": [],
   "source": [
    "MSE_lr= mean_squared_error(y_predict_lr,y_test)\n",
    "MSE_dt= mean_squared_error(y_predict_dt,y_test)\n",
    "MSE_rf= mean_squared_error(y_predict_rf,y_test)"
   ]
  },
  {
   "cell_type": "code",
   "execution_count": 208,
   "id": "e9247ab6",
   "metadata": {},
   "outputs": [
    {
     "name": "stdout",
     "output_type": "stream",
     "text": [
      "0.670951979174533 0.31034866320890103 0.15026214669561092\n"
     ]
    }
   ],
   "source": [
    "print(MSE_lr, MSE_dt, MSE_rf)"
   ]
  },
  {
   "cell_type": "markdown",
   "id": "e2d470dc",
   "metadata": {},
   "source": [
    "# From the accuracy test, RandomForest Algorithm is selected for predicting the weight. RandomForest Algorithm have the least Mean Absolute Error and Least Mean Squared Error among the three algorithms. This indicates that RandomForest Model predicts 'Weight' values close to the test dataset."
   ]
  },
  {
   "cell_type": "code",
   "execution_count": null,
   "id": "c7786c86",
   "metadata": {},
   "outputs": [],
   "source": []
  },
  {
   "cell_type": "code",
   "execution_count": null,
   "id": "27de7165",
   "metadata": {},
   "outputs": [],
   "source": []
  },
  {
   "cell_type": "code",
   "execution_count": 209,
   "id": "3b3a759d",
   "metadata": {},
   "outputs": [
    {
     "data": {
      "text/plain": [
       "array([[-0.23801681],\n",
       "       [-0.364714  ],\n",
       "       [-1.09959223],\n",
       "       [-1.0129176 ],\n",
       "       [-1.71120795],\n",
       "       [ 1.8035213 ],\n",
       "       [-0.07943426],\n",
       "       [-1.06255148],\n",
       "       [ 1.05943787],\n",
       "       [ 0.11862335],\n",
       "       [ 1.04479579],\n",
       "       [ 0.05021387],\n",
       "       [-1.21704045],\n",
       "       [ 0.92657292],\n",
       "       [ 0.95855989],\n",
       "       [-0.18171139],\n",
       "       [-1.44210491],\n",
       "       [ 0.10165725],\n",
       "       [-1.59653   ],\n",
       "       [ 0.6991576 ],\n",
       "       [ 0.98261978],\n",
       "       [-1.36434852],\n",
       "       [-1.06136625],\n",
       "       [ 1.19833152],\n",
       "       [-0.83201035],\n",
       "       [ 0.69495787],\n",
       "       [-0.3597124 ],\n",
       "       [ 1.8570605 ],\n",
       "       [ 0.32587106],\n",
       "       [-1.03794454],\n",
       "       [-1.13781821],\n",
       "       [-0.36543605],\n",
       "       [ 0.05202452],\n",
       "       [ 0.50443617],\n",
       "       [-0.64088044],\n",
       "       [ 1.18602596],\n",
       "       [-0.02926472],\n",
       "       [ 0.49081992],\n",
       "       [ 1.96624124],\n",
       "       [-1.44362607],\n",
       "       [-0.01998807],\n",
       "       [ 1.30864467],\n",
       "       [-0.75555839],\n",
       "       [-1.71120795],\n",
       "       [ 1.03743362],\n",
       "       [-1.21427018],\n",
       "       [-1.21427018],\n",
       "       [-0.87436203],\n",
       "       [-1.40813527],\n",
       "       [-1.05008301],\n",
       "       [-1.59653   ],\n",
       "       [ 0.01214419],\n",
       "       [ 0.68966219],\n",
       "       [ 0.81218866],\n",
       "       [-0.11392334],\n",
       "       [ 0.73398942],\n",
       "       [-0.79378437],\n",
       "       [-0.71247942],\n",
       "       [ 1.32050455],\n",
       "       [ 1.72540692],\n",
       "       [ 1.0606168 ],\n",
       "       [-0.02618753],\n",
       "       [ 1.01708941],\n",
       "       [ 0.05249213],\n",
       "       [ 1.6054252 ],\n",
       "       [-1.71120795],\n",
       "       [-0.81202795],\n",
       "       [ 1.55434057],\n",
       "       [-1.40540009],\n",
       "       [-0.75555839],\n",
       "       [-1.13781821],\n",
       "       [-0.64088044],\n",
       "       [-0.41152454],\n",
       "       [-1.41152829],\n",
       "       [-1.02314026],\n",
       "       [ 1.22225529],\n",
       "       [-1.44362607],\n",
       "       [-0.14394266],\n",
       "       [ 1.02008529],\n",
       "       [ 0.69502985],\n",
       "       [ 0.12363921],\n",
       "       [-0.33507258],\n",
       "       [ 2.19939649],\n",
       "       [-0.50418505],\n",
       "       [ 0.96434531],\n",
       "       [ 0.91547939],\n",
       "       [-0.65069217],\n",
       "       [ 0.30497915],\n",
       "       [-0.64088044],\n",
       "       [ 0.12488809],\n",
       "       [-1.21387071],\n",
       "       [ 1.19396672],\n",
       "       [-0.90846232],\n",
       "       [-0.7173324 ],\n",
       "       [ 1.30857839],\n",
       "       [-0.15785073],\n",
       "       [ 0.96270385],\n",
       "       [ 0.69528168],\n",
       "       [-0.9466883 ],\n",
       "       [-1.02314026],\n",
       "       [-1.40799185],\n",
       "       [-1.40540009],\n",
       "       [-0.36304903],\n",
       "       [-0.25862061],\n",
       "       [-1.40540009],\n",
       "       [-0.79378437],\n",
       "       [ 1.17099199],\n",
       "       [-1.36304857],\n",
       "       [ 0.99653698],\n",
       "       [ 1.64789507],\n",
       "       [-1.40540009],\n",
       "       [-0.1852476 ],\n",
       "       [ 1.33382523],\n",
       "       [ 0.37473858],\n",
       "       [-1.70753588],\n",
       "       [ 0.16386117],\n",
       "       [ 1.80189245],\n",
       "       [-1.59653   ],\n",
       "       [-0.44975053],\n",
       "       [ 0.64757145],\n",
       "       [-0.83201035],\n",
       "       [ 1.01184048],\n",
       "       [ 0.49031144],\n",
       "       [-0.83201035],\n",
       "       [ 1.12143732],\n",
       "       [-0.90846232],\n",
       "       [ 0.9625589 ],\n",
       "       [ 0.04821717],\n",
       "       [-0.27129941],\n",
       "       [ 0.61334096],\n",
       "       [ 0.4302791 ],\n",
       "       [-1.39439227],\n",
       "       [-0.3096669 ],\n",
       "       [-0.04837771],\n",
       "       [ 0.12363921],\n",
       "       [-0.41809486],\n",
       "       [-1.59653   ],\n",
       "       [-1.52007804],\n",
       "       [ 1.79965986],\n",
       "       [-0.64088044],\n",
       "       [-0.90846232],\n",
       "       [ 1.31770098],\n",
       "       [-1.3256389 ],\n",
       "       [ 0.07140784],\n",
       "       [ 1.11013627],\n",
       "       [-0.34481332],\n",
       "       [ 0.77394941],\n",
       "       [ 0.6187012 ],\n",
       "       [ 0.60498732],\n",
       "       [ 1.75127364],\n",
       "       [-0.18216865],\n",
       "       [-0.44975053],\n",
       "       [-1.41778355],\n",
       "       [ 0.9620555 ],\n",
       "       [-1.02314026],\n",
       "       [-0.9466883 ],\n",
       "       [ 0.95766689],\n",
       "       [-0.25791072],\n",
       "       [ 0.84232453],\n",
       "       [-0.18216865],\n",
       "       [-0.25862061],\n",
       "       [ 1.00874808],\n",
       "       [ 0.4884946 ],\n",
       "       [-0.17342277],\n",
       "       [ 0.71602631],\n",
       "       [-1.06783752],\n",
       "       [-1.71120795],\n",
       "       [ 0.12363921],\n",
       "       [ 0.68766198],\n",
       "       [-0.35830713],\n",
       "       [-1.40540009],\n",
       "       [-1.40540009],\n",
       "       [ 0.94934157],\n",
       "       [-1.02314026],\n",
       "       [-1.7125363 ],\n",
       "       [ 0.80969889],\n",
       "       [ 0.35116129],\n",
       "       [-1.36252013],\n",
       "       [ 1.00626629],\n",
       "       [ 0.19237347],\n",
       "       [-1.36717411],\n",
       "       [-0.30141995],\n",
       "       [-0.22996424],\n",
       "       [ 1.20186287],\n",
       "       [-0.31310082],\n",
       "       [ 0.88815886],\n",
       "       [ 0.69251806],\n",
       "       [ 1.29504303],\n",
       "       [-0.64088044],\n",
       "       [-1.29072214],\n",
       "       [-0.25862061],\n",
       "       [ 1.27622778],\n",
       "       [ 1.27646027],\n",
       "       [-1.62035866],\n",
       "       [-0.7173324 ],\n",
       "       [-0.03676431],\n",
       "       [ 0.58749798],\n",
       "       [ 1.35961615],\n",
       "       [ 0.934649  ],\n",
       "       [ 1.28358379],\n",
       "       [ 1.73916702],\n",
       "       [-0.14394266],\n",
       "       [-0.83201035],\n",
       "       [-0.05750076],\n",
       "       [-0.43802654],\n",
       "       [-1.44362607],\n",
       "       [ 0.96462539],\n",
       "       [-0.44975053],\n",
       "       [ 0.81514747],\n",
       "       [-0.98491428],\n",
       "       [-0.10323677],\n",
       "       [-1.36717411],\n",
       "       [-1.34836857],\n",
       "       [ 1.21494258],\n",
       "       [ 0.99232486],\n",
       "       [-0.18216865],\n",
       "       [ 0.82348478],\n",
       "       [-0.45690998],\n",
       "       [-0.37329856],\n",
       "       [-0.78893104],\n",
       "       [-1.21494525],\n",
       "       [ 0.59623273],\n",
       "       [-0.44975053],\n",
       "       [ 0.46767306],\n",
       "       [-0.06444833],\n",
       "       [ 0.99806938],\n",
       "       [ 1.3047608 ],\n",
       "       [ 1.04732884],\n",
       "       [-0.88510207],\n",
       "       [ 0.12363921],\n",
       "       [-0.44975053],\n",
       "       [ 0.82680635],\n",
       "       [ 1.24905828],\n",
       "       [ 1.95306799],\n",
       "       [ 0.54672393],\n",
       "       [ 1.45026357],\n",
       "       [ 0.85740717],\n",
       "       [-0.16460087],\n",
       "       [-0.44975053],\n",
       "       [ 0.45965198],\n",
       "       [-0.24051728],\n",
       "       [-1.389167  ],\n",
       "       [ 0.88392855],\n",
       "       [-0.70234273],\n",
       "       [-1.81168406],\n",
       "       [ 1.29728907],\n",
       "       [ 0.81952591],\n",
       "       [-1.21427018],\n",
       "       [-0.25862061],\n",
       "       [ 0.03480792],\n",
       "       [ 0.69115048],\n",
       "       [ 1.76863791],\n",
       "       [-0.44975053],\n",
       "       [ 0.97325112],\n",
       "       [-0.16444097],\n",
       "       [ 0.23297523],\n",
       "       [-1.37002653],\n",
       "       [-0.84362157],\n",
       "       [-0.9225531 ],\n",
       "       [ 0.49151758],\n",
       "       [ 0.84993288],\n",
       "       [-0.18216865],\n",
       "       [ 1.52553049],\n",
       "       [-0.16978519],\n",
       "       [-0.25510818],\n",
       "       [ 0.70230693],\n",
       "       [-1.34396746],\n",
       "       [-0.64088044],\n",
       "       [ 0.61354276],\n",
       "       [-1.21473883],\n",
       "       [ 0.39233916],\n",
       "       [ 1.79658902],\n",
       "       [ 1.30770771],\n",
       "       [ 1.20840089],\n",
       "       [ 0.16414327],\n",
       "       [-1.35514596],\n",
       "       [ 0.50889469],\n",
       "       [-1.71096781],\n",
       "       [ 0.7020731 ],\n",
       "       [-1.02314026],\n",
       "       [-1.36209735],\n",
       "       [ 0.84600799],\n",
       "       [ 1.80122587],\n",
       "       [ 1.71259702],\n",
       "       [-0.05877074],\n",
       "       [ 0.63014705],\n",
       "       [-0.08439434],\n",
       "       [ 0.94888562],\n",
       "       [-0.16196335],\n",
       "       [-1.31628875],\n",
       "       [ 0.64754228],\n",
       "       [-1.02314026],\n",
       "       [-0.2411    ],\n",
       "       [-0.72795074],\n",
       "       [-0.25862061],\n",
       "       [-1.13781821],\n",
       "       [-0.73746672],\n",
       "       [ 1.21435058],\n",
       "       [-1.59653   ],\n",
       "       [-0.85494594],\n",
       "       [-0.10056718],\n",
       "       [ 0.1808145 ],\n",
       "       [-0.27430932],\n",
       "       [-0.16808463],\n",
       "       [-0.2398387 ],\n",
       "       [ 0.05174145],\n",
       "       [-1.357386  ],\n",
       "       [ 0.3603598 ],\n",
       "       [-1.17604419],\n",
       "       [-0.16179443],\n",
       "       [ 0.42791417],\n",
       "       [ 0.31599912],\n",
       "       [-0.18216865],\n",
       "       [ 1.20027715],\n",
       "       [-1.36717411],\n",
       "       [-1.40540009],\n",
       "       [ 0.35299511],\n",
       "       [-1.027152  ],\n",
       "       [ 1.78929003],\n",
       "       [-0.64088044],\n",
       "       [-0.05594087],\n",
       "       [ 1.12943981],\n",
       "       [-0.20804878],\n",
       "       [-0.22065407],\n",
       "       [-0.14394266],\n",
       "       [-0.25531315],\n",
       "       [ 0.60467096],\n",
       "       [-1.71120795],\n",
       "       [ 0.73672541],\n",
       "       [-1.06136625],\n",
       "       [ 0.59403925],\n",
       "       [ 0.59127467],\n",
       "       [ 1.30557524],\n",
       "       [ 0.68069545],\n",
       "       [-0.35973812],\n",
       "       [ 0.9599523 ],\n",
       "       [-1.21437056],\n",
       "       [-0.79378437],\n",
       "       [-0.26957266],\n",
       "       [-0.14394266],\n",
       "       [ 0.49872949],\n",
       "       [-0.53714999],\n",
       "       [-0.25862061],\n",
       "       [ 1.2101805 ],\n",
       "       [ 0.60359284],\n",
       "       [-0.35679724],\n",
       "       [-1.69822002],\n",
       "       [-0.31071089],\n",
       "       [-0.83201035],\n",
       "       [-0.02372562],\n",
       "       [-0.44975053],\n",
       "       [ 1.17770424],\n",
       "       [ 1.90178379],\n",
       "       [ 0.92525638],\n",
       "       [ 0.9797219 ],\n",
       "       [-0.05998774],\n",
       "       [-1.02314026],\n",
       "       [ 0.69019319],\n",
       "       [-0.62395493],\n",
       "       [-0.68408379],\n",
       "       [-1.8258859 ],\n",
       "       [-1.18770174],\n",
       "       [-1.40540009],\n",
       "       [ 0.64299048],\n",
       "       [-0.87023633],\n",
       "       [ 1.08416878],\n",
       "       [-0.41152454],\n",
       "       [ 1.19912333],\n",
       "       [-0.90846232],\n",
       "       [ 1.30376298],\n",
       "       [ 0.96488227],\n",
       "       [-1.48185205],\n",
       "       [-0.90846232],\n",
       "       [ 0.95814773],\n",
       "       [ 0.58903875],\n",
       "       [-0.83201035],\n",
       "       [ 0.56494247],\n",
       "       [-1.59653   ],\n",
       "       [-0.68426662],\n",
       "       [-0.25862061],\n",
       "       [ 0.96164797],\n",
       "       [-0.33507258],\n",
       "       [ 0.69657337],\n",
       "       [-0.25862061],\n",
       "       [-0.27601351],\n",
       "       [ 0.81581084],\n",
       "       [-0.79378437],\n",
       "       [ 1.80132518],\n",
       "       [ 2.43694112],\n",
       "       [-0.02926472],\n",
       "       [-0.25862061],\n",
       "       [ 0.88435431],\n",
       "       [-1.29072214],\n",
       "       [ 0.14368721],\n",
       "       [ 1.62332922],\n",
       "       [-1.02314026],\n",
       "       [-0.33507258],\n",
       "       [-0.25862061],\n",
       "       [-1.09959223],\n",
       "       [-0.14394266],\n",
       "       [ 0.12344938],\n",
       "       [-1.03078546],\n",
       "       [ 0.61570336],\n",
       "       [-1.02314026],\n",
       "       [ 0.8875573 ],\n",
       "       [-1.17604419],\n",
       "       [-1.40540009],\n",
       "       [-0.64181288],\n",
       "       [ 1.27816312],\n",
       "       [-0.33475194],\n",
       "       [ 0.93287095],\n",
       "       [-1.65902929],\n",
       "       [-0.83201035],\n",
       "       [-0.33507258],\n",
       "       [ 1.68811928],\n",
       "       [-1.48185205],\n",
       "       [ 1.27077771],\n",
       "       [-0.33507258],\n",
       "       [-1.69974015],\n",
       "       [ 0.66912635]])"
      ]
     },
     "execution_count": 209,
     "metadata": {},
     "output_type": "execute_result"
    }
   ],
   "source": [
    "y_test"
   ]
  },
  {
   "cell_type": "code",
   "execution_count": 212,
   "id": "4b5d5c24",
   "metadata": {},
   "outputs": [
    {
     "data": {
      "text/plain": [
       "array([-0.30542763, -0.29520863, -0.94396761, -1.08990275, -1.68134658,\n",
       "        1.83738415, -0.25288001, -1.06494659,  0.94301411,  0.29605913,\n",
       "        1.06089908, -0.06902335, -0.88063692,  0.89306097,  0.93643654,\n",
       "       -0.10251974, -0.84105304, -0.23979864, -1.32327494,  0.71015715,\n",
       "        0.97067014, -1.00686076, -0.8965113 ,  0.98928779, -0.94923251,\n",
       "        0.69214852, -0.35685632,  1.80917907,  0.22063594, -1.05759871,\n",
       "       -0.8948239 , -0.325654  , -0.1407618 ,  0.43535249, -0.45086455,\n",
       "        1.17522944, -0.02078917,  0.37876253,  2.19517957, -1.44990967,\n",
       "       -0.17484087, -0.05549555, -0.26411214, -1.58893291,  0.67957405,\n",
       "       -1.14603114, -1.37522552, -0.74277509, -0.39592322, -0.9834597 ,\n",
       "       -1.33848844,  0.38844865,  0.67585097,  0.43341697, -0.30347013,\n",
       "        0.7644756 , -0.56089713, -0.70845919,  0.68779141,  1.77865775,\n",
       "        0.43990876, -0.19189761,  0.44098594, -0.03376016,  0.86935431,\n",
       "       -1.51194683, -1.01469235,  0.80523075, -1.10352473,  0.00458847,\n",
       "       -1.1318391 , -0.74774217,  0.17833534, -0.46398896, -1.33415384,\n",
       "        1.16926973, -1.05682726, -0.6777256 ,  0.7642005 ,  0.82344694,\n",
       "        0.4865472 , -0.01230882,  1.89174694, -0.38778233,  0.91805578,\n",
       "        0.2342273 , -0.99112816,  0.06413071, -1.04421783,  0.15688162,\n",
       "       -1.22235121,  0.77787787, -0.77628558, -0.02144852,  1.18285478,\n",
       "       -0.24792838,  0.96157656,  0.69235556, -0.64642946,  0.30596872,\n",
       "       -1.26206424, -0.66029867, -0.39379535, -0.30939583, -1.40650322,\n",
       "        0.59222786,  1.16460948, -0.90862651,  1.01795529,  1.61776896,\n",
       "       -1.01835148, -0.21971048,  1.11703842,  0.16420699, -1.62892093,\n",
       "        0.90569285,  1.83316573, -0.74300231,  0.00948757,  0.61926863,\n",
       "       -0.14571216,  1.0136288 ,  0.40866448, -0.84958897,  1.06073273,\n",
       "       -0.78119605,  0.95888561, -0.01610416, -0.26816279,  0.49352257,\n",
       "        0.52460992, -1.02233361, -0.00370576, -0.13350294,  0.09776014,\n",
       "       -0.53487631, -1.1097846 ,  0.40175263,  1.84102693, -0.50507174,\n",
       "       -0.65985533,  0.78796846, -1.07422943, -0.53558538,  0.71842004,\n",
       "       -0.30386358,  0.77521638,  0.54065505,  0.52486806,  1.71320916,\n",
       "       -0.56750842, -0.46627865, -1.40037719,  0.96165517, -1.165639  ,\n",
       "       -0.63834253,  0.93544858,  0.26604472,  0.64257712, -0.13958505,\n",
       "       -0.90249838,  1.06274476, -0.23869772,  0.19115235,  0.62243225,\n",
       "       -1.08012532, -1.71302855, -0.29327267,  0.68667715, -0.32962287,\n",
       "       -1.32963237, -1.37669077,  0.92718804,  0.29314842, -1.71033271,\n",
       "        0.41097561,  0.76071848, -0.87628997,  1.02854991,  1.02177996,\n",
       "       -1.34247473, -0.34577254, -0.16322339,  1.07381279, -0.03215847,\n",
       "        0.83336573,  0.79860344,  1.27507807, -0.64470304, -1.21455193,\n",
       "       -0.31140942,  0.65334826,  1.17865393, -1.41523764, -0.71274958,\n",
       "       -0.48520317,  0.50015711,  1.2618379 ,  0.9448635 ,  1.17538815,\n",
       "        1.61346268, -0.11303038, -0.57388555, -0.08604678, -0.06500352,\n",
       "       -1.22912381,  0.91705718, -0.09565921,  0.77026355, -0.77519885,\n",
       "       -0.2459378 , -1.15651365, -1.03572317,  1.17172367,  0.89050074,\n",
       "       -0.13861243,  0.59275853, -0.49024144, -0.43518251, -0.88905884,\n",
       "       -0.93768354,  0.61950621, -0.82345812,  0.31070776,  0.10587759,\n",
       "        0.89192242,  1.31996549,  1.04985988, -0.31703113,  0.13408409,\n",
       "       -0.15298808,  0.4928112 ,  0.99421835,  2.22145728,  0.38180666,\n",
       "        1.00426856,  0.7970001 , -0.05053767, -0.48950427,  0.52746409,\n",
       "       -0.16345721, -1.02648116,  0.25578558, -0.62816223, -1.40211698,\n",
       "        1.20367056,  0.79274295, -0.87013833, -0.31181452, -0.0765554 ,\n",
       "        0.69731582,  1.71509644, -0.28048568,  1.03374137, -0.03569216,\n",
       "        0.7039304 , -1.10157532, -1.18124297, -0.77626757,  0.54053492,\n",
       "        0.12181052, -0.50726465, -0.5164805 , -0.24678816, -0.22876247,\n",
       "        0.73821421, -0.60246156, -0.53001599,  0.37677061,  0.59241056,\n",
       "        0.45794915,  1.29139359,  1.10135236,  0.95791674,  1.11405886,\n",
       "       -1.30833837,  0.3966311 , -1.08397154,  0.72412485, -1.25585706,\n",
       "       -1.12587268,  0.79579921,  1.68373646,  1.63385675, -0.02184123,\n",
       "        0.53963772,  0.08867692,  0.93811273, -0.08645352, -1.05901917,\n",
       "       -0.1078351 , -1.03702037, -0.18510558, -0.62298731, -0.31463852,\n",
       "       -1.08781955, -0.9720059 ,  1.20008565, -1.3134315 , -0.19854942,\n",
       "       -0.20526661,  1.15060934, -0.40730724, -0.25935545,  0.23579275,\n",
       "       -0.07409287, -1.01129741,  0.508784  , -1.31022398, -0.58101966,\n",
       "        0.05491459,  0.29013407, -0.7596507 ,  1.14400196, -0.22775879,\n",
       "       -1.25711643,  0.21658177, -0.81473683,  1.85706411, -0.64088044,\n",
       "       -0.16263483,  0.52064351, -0.10702834, -0.11388537, -0.36224887,\n",
       "       -0.30783921,  0.43841538, -1.68134658,  0.2852103 , -1.13568605,\n",
       "        0.55518369,  0.4264038 ,  1.23097297,  0.38652921, -0.35440845,\n",
       "        0.95575119, -0.96640575, -0.30146603, -0.62813611, -1.16674936,\n",
       "        0.52992122, -0.78034077, -0.37390113,  1.06025354,  0.69250986,\n",
       "       -0.32755364, -1.58722789, -0.31573787, -0.87954551, -0.16201416,\n",
       "       -0.66777366,  0.97608717,  1.90700161,  0.85514707,  1.03026306,\n",
       "       -0.34384186, -0.67080275,  0.64003177, -0.63980387, -0.27749693,\n",
       "       -1.29506731, -1.01213811, -0.89502172,  0.34460235, -0.9134253 ,\n",
       "        0.49478204,  0.23284321,  1.16824178, -0.76342284,  1.14821188,\n",
       "        0.85789423, -1.47938223, -0.79395503,  0.93756366,  0.6198861 ,\n",
       "       -0.82330009,  0.5623235 , -0.42500916, -0.33325391, -0.27031866,\n",
       "        0.96117786, -0.65949604,  0.68955926,  1.37492177, -0.30132217,\n",
       "        0.78738596, -0.74748597,  1.80510716,  2.15333907,  0.57519814,\n",
       "       -0.30310272,  0.86778777, -1.11631376, -0.35297611,  1.61965126,\n",
       "       -0.87684914, -0.20856479, -0.34170805, -0.11185703,  0.69565121,\n",
       "        0.13985219, -0.43888252,  0.3939995 , -0.97468541,  0.87063491,\n",
       "       -0.95838982, -0.49907713, -0.50164351,  1.33889175, -0.18217367,\n",
       "        0.3876703 , -0.585514  , -1.08239769, -0.34309216,  1.4092844 ,\n",
       "       -0.60185889,  1.22222225, -0.34570935, -1.1099989 ,  0.23097736])"
      ]
     },
     "execution_count": 212,
     "metadata": {},
     "output_type": "execute_result"
    }
   ],
   "source": [
    "y_predict_rf"
   ]
  },
  {
   "cell_type": "code",
   "execution_count": null,
   "id": "98eaeb7c",
   "metadata": {},
   "outputs": [],
   "source": []
  }
 ],
 "metadata": {
  "kernelspec": {
   "display_name": "Python 3 (ipykernel)",
   "language": "python",
   "name": "python3"
  },
  "language_info": {
   "codemirror_mode": {
    "name": "ipython",
    "version": 3
   },
   "file_extension": ".py",
   "mimetype": "text/x-python",
   "name": "python",
   "nbconvert_exporter": "python",
   "pygments_lexer": "ipython3",
   "version": "3.11.4"
  }
 },
 "nbformat": 4,
 "nbformat_minor": 5
}
